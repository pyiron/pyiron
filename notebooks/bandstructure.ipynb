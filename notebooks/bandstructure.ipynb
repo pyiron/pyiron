{
 "cells": [
  {
   "cell_type": "markdown",
   "metadata": {},
   "source": [
    "# Band structure calculations"
   ]
  },
  {
   "cell_type": "markdown",
   "metadata": {},
   "source": [
    "In this notebook we will see, how to calculate band structures using pyiron. "
   ]
  },
  {
   "cell_type": "code",
   "execution_count": 1,
   "metadata": {
    "ExecuteTime": {
     "end_time": "2020-04-07T11:26:22.524072Z",
     "start_time": "2020-04-07T11:26:20.427068Z"
    }
   },
   "outputs": [],
   "source": [
    "from pyiron.project import Project\n",
    "from ase.spacegroup import crystal\n",
    "import matplotlib.pyplot as plt\n",
    "import seekpath as sp\n",
    "import numpy as np\n",
    "%config InlineBackend.figure_format = 'retina'"
   ]
  },
  {
   "cell_type": "code",
   "execution_count": 2,
   "metadata": {
    "ExecuteTime": {
     "end_time": "2020-04-07T11:26:23.295730Z",
     "start_time": "2020-04-07T11:26:22.525484Z"
    }
   },
   "outputs": [],
   "source": [
    "pr = Project(\"band_structure\")"
   ]
  },
  {
   "cell_type": "code",
   "execution_count": 3,
   "metadata": {},
   "outputs": [],
   "source": [
    "pr.remove_jobs(recursive=True)"
   ]
  },
  {
   "cell_type": "markdown",
   "metadata": {},
   "source": [
    "# Structures with seekpath"
   ]
  },
  {
   "cell_type": "markdown",
   "metadata": {},
   "source": [
    "First we see how [seekpath](https://github.com/giovannipizzi/seekpath) works! Therefore we create firts a structure using pyiron."
   ]
  },
  {
   "cell_type": "markdown",
   "metadata": {},
   "source": [
    "## Create structure with pyiron"
   ]
  },
  {
   "cell_type": "code",
   "execution_count": 4,
   "metadata": {
    "ExecuteTime": {
     "end_time": "2020-04-07T11:26:23.537330Z",
     "start_time": "2020-04-07T11:26:23.297431Z"
    }
   },
   "outputs": [],
   "source": [
    "structure_Fe = pr.create_structure(\"Fe\", \"bcc\", 2.81)"
   ]
  },
  {
   "cell_type": "code",
   "execution_count": 5,
   "metadata": {
    "ExecuteTime": {
     "end_time": "2020-04-07T11:26:23.602641Z",
     "start_time": "2020-04-07T11:26:23.538727Z"
    }
   },
   "outputs": [
    {
     "data": {
      "application/vnd.jupyter.widget-view+json": {
       "model_id": "d8fb2ad12c684f5aacccfdaac127f3bc",
       "version_major": 2,
       "version_minor": 0
      },
      "text/plain": [
       "_ColormakerRegistry()"
      ]
     },
     "metadata": {},
     "output_type": "display_data"
    },
    {
     "data": {
      "application/vnd.jupyter.widget-view+json": {
       "model_id": "05710635034d4a22a085dc65e24c404f",
       "version_major": 2,
       "version_minor": 0
      },
      "text/plain": [
       "NGLWidget()"
      ]
     },
     "metadata": {},
     "output_type": "display_data"
    }
   ],
   "source": [
    "structure_Fe.plot3d()"
   ]
  },
  {
   "cell_type": "code",
   "execution_count": 6,
   "metadata": {
    "ExecuteTime": {
     "end_time": "2020-04-07T11:26:23.607941Z",
     "start_time": "2020-04-07T11:26:23.603845Z"
    },
    "scrolled": true
   },
   "outputs": [
    {
     "data": {
      "text/plain": [
       "Fe: [0. 0. 0.]\n",
       "Fe: [1.405 1.405 1.405]\n",
       "pbc: [ True  True  True]\n",
       "cell: \n",
       "[[2.81000000e+00 0.00000000e+00 0.00000000e+00]\n",
       " [1.72062875e-16 2.81000000e+00 0.00000000e+00]\n",
       " [1.72062875e-16 1.72062875e-16 2.81000000e+00]]"
      ]
     },
     "execution_count": 6,
     "metadata": {},
     "output_type": "execute_result"
    }
   ],
   "source": [
    "structure_Fe"
   ]
  },
  {
   "cell_type": "markdown",
   "metadata": {},
   "source": [
    "## Create structure with seekpath"
   ]
  },
  {
   "cell_type": "markdown",
   "metadata": {},
   "source": [
    "For seekpath we need a tuple containing\n",
    "1. The cell in $3\\times3$ array\n",
    "2. The scaled positions\n",
    "3. List of `ints` to distinguish the atom types (indices of pyiron structure)\n",
    "as input structure."
   ]
  },
  {
   "cell_type": "code",
   "execution_count": 7,
   "metadata": {
    "ExecuteTime": {
     "end_time": "2020-04-07T11:26:23.615746Z",
     "start_time": "2020-04-07T11:26:23.609164Z"
    }
   },
   "outputs": [],
   "source": [
    "input_sp = (structure_Fe.cell, structure_Fe.get_scaled_positions(), structure_Fe.indices)"
   ]
  },
  {
   "cell_type": "markdown",
   "metadata": {},
   "source": [
    "Just to see how the output looks like, let us do..."
   ]
  },
  {
   "cell_type": "code",
   "execution_count": 8,
   "metadata": {
    "ExecuteTime": {
     "end_time": "2020-04-07T11:26:23.638030Z",
     "start_time": "2020-04-07T11:26:23.617041Z"
    }
   },
   "outputs": [
    {
     "data": {
      "text/plain": [
       "{'point_coords': {'GAMMA': [0.0, 0.0, 0.0],\n",
       "  'H': [0.5, -0.5, 0.5],\n",
       "  'P': [0.25, 0.25, 0.25],\n",
       "  'N': [0.0, 0.0, 0.5]},\n",
       " 'path': [('GAMMA', 'H'),\n",
       "  ('H', 'N'),\n",
       "  ('N', 'GAMMA'),\n",
       "  ('GAMMA', 'P'),\n",
       "  ('P', 'H'),\n",
       "  ('P', 'N')],\n",
       " 'has_inversion_symmetry': True,\n",
       " 'augmented_path': False,\n",
       " 'bravais_lattice': 'cI',\n",
       " 'bravais_lattice_extended': 'cI1',\n",
       " 'conv_lattice': array([[2.81, 0.  , 0.  ],\n",
       "        [0.  , 2.81, 0.  ],\n",
       "        [0.  , 0.  , 2.81]]),\n",
       " 'conv_positions': array([[0. , 0. , 0. ],\n",
       "        [0.5, 0.5, 0.5]]),\n",
       " 'conv_types': array([0, 0], dtype=int32),\n",
       " 'primitive_lattice': array([[-1.405,  1.405,  1.405],\n",
       "        [ 1.405, -1.405,  1.405],\n",
       "        [ 1.405,  1.405, -1.405]]),\n",
       " 'primitive_positions': array([[0., 0., 0.]]),\n",
       " 'primitive_types': array([0], dtype=int32),\n",
       " 'reciprocal_primitive_lattice': [[1.6776982741209693e-16,\n",
       "   2.236009006113732,\n",
       "   2.236009006113732],\n",
       "  [2.236009006113732, 0.0, 2.236009006113732],\n",
       "  [2.236009006113732, 2.236009006113732, 0.0]],\n",
       " 'inverse_primitive_transformation_matrix': array([[0, 1, 1],\n",
       "        [1, 0, 1],\n",
       "        [1, 1, 0]]),\n",
       " 'primitive_transformation_matrix': array([[-0.5,  0.5,  0.5],\n",
       "        [ 0.5, -0.5,  0.5],\n",
       "        [ 0.5,  0.5, -0.5]]),\n",
       " 'volume_original_wrt_conv': 0.9999999999999999,\n",
       " 'volume_original_wrt_prim': 1.9999999999999998,\n",
       " 'spacegroup_number': 229,\n",
       " 'spacegroup_international': 'Im-3m'}"
      ]
     },
     "execution_count": 8,
     "metadata": {},
     "output_type": "execute_result"
    }
   ],
   "source": [
    "sp.get_path(input_sp)"
   ]
  },
  {
   "cell_type": "markdown",
   "metadata": {},
   "source": [
    "The code creates automatically the conventional and primitive cell with all high-symmetry points and a suggested path taking all high-symmetry paths into account.\n",
    "\n",
    "**Keep in mind:** The high-symmetry points and paths make only sence for the primitive cell! Therefore we run all calculations in the primitive cell created by seekpath."
   ]
  },
  {
   "cell_type": "markdown",
   "metadata": {},
   "source": [
    "## Create a structure"
   ]
  },
  {
   "cell_type": "markdown",
   "metadata": {},
   "source": [
    "We use the same structure as before!"
   ]
  },
  {
   "cell_type": "markdown",
   "metadata": {},
   "source": [
    "## Create new structure (primitive cell) with high-symmetry points and paths"
   ]
  },
  {
   "cell_type": "markdown",
   "metadata": {},
   "source": [
    "For the following command all arguments valid for seekpath are supported. Look at the docstring and at seekpath."
   ]
  },
  {
   "cell_type": "code",
   "execution_count": 9,
   "metadata": {},
   "outputs": [],
   "source": [
    "structure_Fe_sp = structure_Fe.create_line_mode_structure()"
   ]
  },
  {
   "cell_type": "code",
   "execution_count": 10,
   "metadata": {},
   "outputs": [
    {
     "data": {
      "application/vnd.jupyter.widget-view+json": {
       "model_id": "8cfca8be8cc240c689ba45ffb07ebeb2",
       "version_major": 2,
       "version_minor": 0
      },
      "text/plain": [
       "NGLWidget()"
      ]
     },
     "metadata": {},
     "output_type": "display_data"
    }
   ],
   "source": [
    "structure_Fe_sp.plot3d()"
   ]
  },
  {
   "cell_type": "code",
   "execution_count": 11,
   "metadata": {},
   "outputs": [
    {
     "data": {
      "text/plain": [
       "Fe: [0. 0. 0.]\n",
       "pbc: [ True  True  True]\n",
       "cell: \n",
       "[[-1.405  1.405  1.405]\n",
       " [ 1.405 -1.405  1.405]\n",
       " [ 1.405  1.405 -1.405]]"
      ]
     },
     "execution_count": 11,
     "metadata": {},
     "output_type": "execute_result"
    }
   ],
   "source": [
    "structure_Fe_sp"
   ]
  },
  {
   "cell_type": "markdown",
   "metadata": {},
   "source": [
    "We see, that the structure is now the primitive cell containing only one atom."
   ]
  },
  {
   "cell_type": "code",
   "execution_count": 12,
   "metadata": {},
   "outputs": [
    {
     "data": {
      "text/plain": [
       "{'GAMMA': [0.0, 0.0, 0.0],\n",
       " 'H': [0.5, -0.5, 0.5],\n",
       " 'P': [0.25, 0.25, 0.25],\n",
       " 'N': [0.0, 0.0, 0.5]}"
      ]
     },
     "execution_count": 12,
     "metadata": {},
     "output_type": "execute_result"
    }
   ],
   "source": [
    "structure_Fe_sp.get_high_symmetry_points()"
   ]
  },
  {
   "cell_type": "code",
   "execution_count": 13,
   "metadata": {},
   "outputs": [
    {
     "data": {
      "text/plain": [
       "{'full': [('GAMMA', 'H'),\n",
       "  ('H', 'N'),\n",
       "  ('N', 'GAMMA'),\n",
       "  ('GAMMA', 'P'),\n",
       "  ('P', 'H'),\n",
       "  ('P', 'N')]}"
      ]
     },
     "execution_count": 13,
     "metadata": {},
     "output_type": "execute_result"
    }
   ],
   "source": [
    "structure_Fe_sp.get_high_symmetry_path()"
   ]
  },
  {
   "cell_type": "markdown",
   "metadata": {},
   "source": [
    "The path is stored like this. Here you can also add paths to the dictionary.\n",
    "\n",
    "Each tuple gives a start and end point for this specific trace. Thus also disonnected paths are possible to calculate."
   ]
  },
  {
   "cell_type": "code",
   "execution_count": 14,
   "metadata": {},
   "outputs": [],
   "source": [
    "structure_Fe_sp.add_high_symmetry_path({\"my_path\": [(\"GAMMA\", \"H\"), (\"GAMMA\", \"P\")]})"
   ]
  },
  {
   "cell_type": "code",
   "execution_count": 15,
   "metadata": {},
   "outputs": [
    {
     "data": {
      "text/plain": [
       "{'full': [('GAMMA', 'H'),\n",
       "  ('H', 'N'),\n",
       "  ('N', 'GAMMA'),\n",
       "  ('GAMMA', 'P'),\n",
       "  ('P', 'H'),\n",
       "  ('P', 'N')],\n",
       " 'my_path': [('GAMMA', 'H'), ('GAMMA', 'P')]}"
      ]
     },
     "execution_count": 15,
     "metadata": {},
     "output_type": "execute_result"
    }
   ],
   "source": [
    "structure_Fe_sp.get_high_symmetry_path()"
   ]
  },
  {
   "cell_type": "markdown",
   "metadata": {},
   "source": [
    "## Create jobs"
   ]
  },
  {
   "cell_type": "markdown",
   "metadata": {},
   "source": [
    "We need two jobs for a band structure! The first gives us the correct Fermi energy and the charge densities used for the second calculations."
   ]
  },
  {
   "cell_type": "markdown",
   "metadata": {},
   "source": [
    "## Create job for charge density"
   ]
  },
  {
   "cell_type": "markdown",
   "metadata": {},
   "source": [
    "This is only a small example for BS calculations. Could be that the input parameter like cutoff etc. does not make much sense... for real physics..."
   ]
  },
  {
   "cell_type": "code",
   "execution_count": 16,
   "metadata": {
    "ExecuteTime": {
     "end_time": "2020-04-07T11:26:28.382332Z",
     "start_time": "2020-04-07T11:26:28.377845Z"
    }
   },
   "outputs": [],
   "source": [
    "def setup_hamiltonian_sphinx(project, jobname, structure, chgcar_file=\"\"): \n",
    "    \n",
    "    #version 1.0 (08.03.2019)\n",
    "    \n",
    "    #Name und typ\n",
    "    ham = project.create_job(job_type='Sphinx', job_name=jobname)\n",
    "    \n",
    "    #parameter für xc functional\n",
    "    ham.exchange_correlation_functional = 'PBE'\n",
    "    \n",
    "    #struktur\n",
    "    ham.structure = structure\n",
    "    ham.load_default_groups()\n",
    "\n",
    "    ham.set_encut(450)\n",
    "    ham.set_empty_states(6)\n",
    "    ham.set_convergence_precision(electronic_energy=1e-8)\n",
    "    ham.set_occupancy_smearing(width=0.2)\n",
    "          \n",
    "    #parameter für kpoints\n",
    "    ham.set_kpoints([8, 8, 8])\n",
    "    \n",
    "    return ham"
   ]
  },
  {
   "cell_type": "code",
   "execution_count": 17,
   "metadata": {
    "ExecuteTime": {
     "end_time": "2020-04-07T11:26:28.778390Z",
     "start_time": "2020-04-07T11:26:28.383459Z"
    }
   },
   "outputs": [],
   "source": [
    "ham_spx_chg = setup_hamiltonian_sphinx(pr, \"Fe_spx_CHG\", structure_Fe_sp)"
   ]
  },
  {
   "cell_type": "markdown",
   "metadata": {},
   "source": [
    "### Run it!"
   ]
  },
  {
   "cell_type": "code",
   "execution_count": 18,
   "metadata": {
    "ExecuteTime": {
     "end_time": "2020-04-07T11:26:29.025579Z",
     "start_time": "2020-04-07T11:26:28.823298Z"
    }
   },
   "outputs": [
    {
     "name": "stdout",
     "output_type": "stream",
     "text": [
      "The job Fe_spx_CHG was saved and received the ID: 4\n"
     ]
    }
   ],
   "source": [
    "ham_spx_chg.run()"
   ]
  },
  {
   "cell_type": "code",
   "execution_count": 19,
   "metadata": {
    "ExecuteTime": {
     "end_time": "2020-04-07T11:26:29.251302Z",
     "start_time": "2020-04-07T11:26:29.026672Z"
    }
   },
   "outputs": [
    {
     "data": {
      "text/plain": [
       "finished    1\n",
       "Name: status, dtype: int64"
      ]
     },
     "execution_count": 19,
     "metadata": {},
     "output_type": "execute_result"
    }
   ],
   "source": [
    "pr.get_jobs_status()"
   ]
  },
  {
   "cell_type": "markdown",
   "metadata": {},
   "source": [
    "## Create second job"
   ]
  },
  {
   "cell_type": "markdown",
   "metadata": {},
   "source": [
    "We restart the fist job with the following command. Then the charge density of the first job is taken for the second!"
   ]
  },
  {
   "cell_type": "code",
   "execution_count": 20,
   "metadata": {
    "ExecuteTime": {
     "end_time": "2020-04-07T11:26:30.064390Z",
     "start_time": "2020-04-07T11:26:29.252379Z"
    }
   },
   "outputs": [],
   "source": [
    "ham_spx_bs = ham_spx_chg.restart_for_band_structure_calculations(job_name=\"Fe_spx_BS\")"
   ]
  },
  {
   "cell_type": "raw",
   "metadata": {},
   "source": [
    "ham_spx_bs = ham_spx_chg.restart_from_charge_density(\n",
    "             job_name=\"Fe_spx_BS\",\n",
    "             job_type=None,\n",
    "             band_structure_calc=True\n",
    "         )"
   ]
  },
  {
   "cell_type": "markdown",
   "metadata": {},
   "source": [
    "### Set line mode for k-points"
   ]
  },
  {
   "cell_type": "markdown",
   "metadata": {},
   "source": [
    "To set the correct path, we have to give the name of the path (in our example either `full` or `my_path`) and the number of points for each subpath (would be for `n_path=100`and `path_name=\"my_path\"` 200 k-points in total)"
   ]
  },
  {
   "cell_type": "code",
   "execution_count": 21,
   "metadata": {
    "ExecuteTime": {
     "end_time": "2020-04-07T11:26:30.109050Z",
     "start_time": "2020-04-07T11:26:30.106507Z"
    }
   },
   "outputs": [
    {
     "name": "stderr",
     "output_type": "stream",
     "text": [
      "/srv/conda/envs/notebook/lib/python3.7/site-packages/pyiron/base/generic/parameters.py:285: UserWarning: The input in GenericParameters changed, while the state of the job was already finished.\n",
      "  \"The input in GenericParameters changed, while the state of the job was already finished.\"\n"
     ]
    }
   ],
   "source": [
    "ham_spx_bs.set_kpoints(scheme=\"Line\", path_name=\"full\", n_path=100)"
   ]
  },
  {
   "cell_type": "markdown",
   "metadata": {},
   "source": [
    "A parameter usefull for BS calculations. Look at the sphinx manual for details."
   ]
  },
  {
   "cell_type": "code",
   "execution_count": 22,
   "metadata": {
    "ExecuteTime": {
     "end_time": "2020-04-07T11:26:30.116670Z",
     "start_time": "2020-04-07T11:26:30.110054Z"
    }
   },
   "outputs": [],
   "source": [
    "ham_spx_bs.input[\"nSloppy\"] = 6"
   ]
  },
  {
   "cell_type": "markdown",
   "metadata": {},
   "source": [
    "### Run it!"
   ]
  },
  {
   "cell_type": "code",
   "execution_count": 23,
   "metadata": {
    "ExecuteTime": {
     "end_time": "2020-04-07T11:26:30.330868Z",
     "start_time": "2020-04-07T11:26:30.117645Z"
    }
   },
   "outputs": [
    {
     "name": "stdout",
     "output_type": "stream",
     "text": [
      "The job Fe_spx_BS was saved and received the ID: 5\n"
     ]
    }
   ],
   "source": [
    "ham_spx_bs.run()"
   ]
  },
  {
   "cell_type": "code",
   "execution_count": 24,
   "metadata": {
    "ExecuteTime": {
     "end_time": "2020-04-07T11:26:30.553836Z",
     "start_time": "2020-04-07T11:26:30.331946Z"
    }
   },
   "outputs": [
    {
     "data": {
      "text/plain": [
       "finished    2\n",
       "Name: status, dtype: int64"
      ]
     },
     "execution_count": 24,
     "metadata": {},
     "output_type": "execute_result"
    }
   ],
   "source": [
    "pr.get_jobs_status()"
   ]
  },
  {
   "cell_type": "markdown",
   "metadata": {},
   "source": [
    "## Store the data!"
   ]
  },
  {
   "cell_type": "markdown",
   "metadata": {},
   "source": [
    "The energy values are stored in the following paths of the hdf5 file."
   ]
  },
  {
   "cell_type": "code",
   "execution_count": 25,
   "metadata": {
    "ExecuteTime": {
     "end_time": "2020-04-07T11:26:30.596444Z",
     "start_time": "2020-04-07T11:26:30.554860Z"
    }
   },
   "outputs": [],
   "source": [
    "energy_sphinx = ham_spx_bs['output/generic/dft/bands_eigen_values'][-1]\n",
    "ef_sphinx = ham_spx_chg['output/generic/dft/bands_e_fermi'][-1]\n",
    "energy_sphinx -= ef_sphinx"
   ]
  },
  {
   "cell_type": "markdown",
   "metadata": {},
   "source": [
    "## Plot it!"
   ]
  },
  {
   "cell_type": "markdown",
   "metadata": {},
   "source": [
    "Now we can easily plot it!"
   ]
  },
  {
   "cell_type": "code",
   "execution_count": 26,
   "metadata": {
    "ExecuteTime": {
     "end_time": "2020-04-07T11:26:30.739721Z",
     "start_time": "2020-04-07T11:26:30.597477Z"
    }
   },
   "outputs": [
    {
     "data": {
      "image/png": "[encoded data removed]",
      "text/plain": [
       "<Figure size 432x288 with 1 Axes>"
      ]
     },
     "metadata": {
      "image/png": {
       "height": 252,
       "width": 386
      },
      "needs_background": "light"
     },
     "output_type": "display_data"
    }
   ],
   "source": [
    "plt.plot(energy_sphinx[:-1], 'b-')\n",
    "plt.axhline(y=0, ls='--', c='k')\n",
    "plt.xlim(0, len(energy_sphinx));\n",
    "plt.ylim(-10,40);"
   ]
  },
  {
   "cell_type": "code",
   "execution_count": null,
   "metadata": {},
   "outputs": [],
   "source": []
  }
 ],
 "metadata": {
  "kernelspec": {
   "display_name": "Python 3",
   "language": "python",
   "name": "python3"
  },
  "language_info": {
   "codemirror_mode": {
    "name": "ipython",
    "version": 3
   },
   "file_extension": ".py",
   "mimetype": "text/x-python",
   "name": "python",
   "nbconvert_exporter": "python",
   "pygments_lexer": "ipython3",
   "version": "3.7.6"
  },
  "toc": {
   "base_numbering": 1,
   "nav_menu": {},
   "number_sections": true,
   "sideBar": true,
   "skip_h1_title": false,
   "title_cell": "Table of Contents",
   "title_sidebar": "Contents",
   "toc_cell": false,
   "toc_position": {},
   "toc_section_display": true,
   "toc_window_display": false
  }
 },
 "nbformat": 4,
 "nbformat_minor": 4
}
