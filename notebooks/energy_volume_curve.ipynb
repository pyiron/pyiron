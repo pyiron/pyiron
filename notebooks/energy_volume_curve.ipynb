{
 "cells": [
  {
   "cell_type": "markdown",
   "metadata": {},
   "source": [
    "# Energy volume curve\n",
    "## Theory \n",
    "Fitting the energy volume curve allows to calculate the equilibrium energy $E_0$, the equilirbium volume $V_0$, the equilibrium bulk modulus $B_0$ and its derivative $B^{'}_0$. These quantities can then be used as part of the Einstein model to get an initial prediction for the thermodynamik properties, the heat capacity $C_v$ and the free energy $F$. "
   ]
  },
  {
   "cell_type": "markdown",
   "metadata": {},
   "source": [
    "## Initialisation"
   ]
  },
  {
   "cell_type": "markdown",
   "metadata": {},
   "source": [
    "We start by importing matplotlib, numpy and the pyiron project class. "
   ]
  },
  {
   "cell_type": "code",
   "execution_count": 1,
   "metadata": {
    "ExecuteTime": {
     "end_time": "2019-09-04T12:58:08.037567Z",
     "start_time": "2019-09-04T12:58:06.149845Z"
    }
   },
   "outputs": [],
   "source": [
    "%matplotlib inline \n",
    "import matplotlib.pyplot as plt\n",
    "import numpy as np\n",
    "from pyiron import Project"
   ]
  },
  {
   "cell_type": "markdown",
   "metadata": {},
   "source": [
    "In the next step we create a project, by specifying the name of the project."
   ]
  },
  {
   "cell_type": "code",
   "execution_count": 2,
   "metadata": {
    "ExecuteTime": {
     "end_time": "2019-09-04T12:58:09.049344Z",
     "start_time": "2019-09-04T12:58:08.040033Z"
    }
   },
   "outputs": [],
   "source": [
    "pr = Project(path='thermo')"
   ]
  },
  {
   "cell_type": "markdown",
   "metadata": {},
   "source": [
    "## Atomistic structure"
   ]
  },
  {
   "cell_type": "markdown",
   "metadata": {},
   "source": [
    "To analyse the energy volume dependence a single super cell is sufficient, so we create an iron super cell as an example."
   ]
  },
  {
   "cell_type": "code",
   "execution_count": 3,
   "metadata": {
    "ExecuteTime": {
     "end_time": "2019-09-04T12:58:09.222395Z",
     "start_time": "2019-09-04T12:58:09.051675Z"
    }
   },
   "outputs": [
    {
     "data": {
      "application/vnd.jupyter.widget-view+json": {
       "model_id": "d12d19b951364c45ad4b3f42533841f0",
       "version_major": 2,
       "version_minor": 0
      },
      "text/plain": []
     },
     "metadata": {},
     "output_type": "display_data"
    },
    {
     "data": {
      "application/vnd.jupyter.widget-view+json": {
       "model_id": "9d399da4a95a4e03a8c3ae1ecef19444",
       "version_major": 2,
       "version_minor": 0
      },
      "text/plain": [
       "NGLWidget()"
      ]
     },
     "metadata": {},
     "output_type": "display_data"
    }
   ],
   "source": [
    "basis = pr.create_structure(element='Fe', bravais_basis='bcc', lattice_constant=2.75)\n",
    "basis.plot3d()"
   ]
  },
  {
   "cell_type": "markdown",
   "metadata": {},
   "source": [
    "## Calculation\n",
    "Energy volume curves are commonly calculated with ab initio codes, so we use VASP in this example. But we focus on the generic commands so the same example works with any DFT code. We choose 'vasp' as job name prefix, select an energy cut off of $320 eV$ and assign the basis to the job. Afterwards we apply the corresponding strain."
   ]
  },
  {
   "cell_type": "code",
   "execution_count": 4,
   "metadata": {
    "ExecuteTime": {
     "end_time": "2019-09-04T12:58:12.063333Z",
     "start_time": "2019-09-04T12:58:09.224176Z"
    }
   },
   "outputs": [
    {
     "name": "stdout",
     "output_type": "stream",
     "text": [
      "The job gpaw_0_95 was saved and received the ID: 1\n",
      "The job gpaw_0_9666666666666667 was saved and received the ID: 2\n",
      "The job gpaw_0_9833333333333333 was saved and received the ID: 3\n",
      "The job gpaw_1_0 was saved and received the ID: 4\n",
      "The job gpaw_1_0166666666666666 was saved and received the ID: 5\n",
      "The job gpaw_1_0333333333333334 was saved and received the ID: 6\n",
      "The job gpaw_1_05 was saved and received the ID: 7\n"
     ]
    }
   ],
   "source": [
    "for strain in np.linspace(0.95, 1.05, 7):\n",
    "    strain_str = str(strain).replace('.', '_')\n",
    "    job_vasp_strain = pr.create_job(job_type=pr.job_type.Gpaw, job_name='gpaw_' + strain_str)\n",
    "    job_vasp_strain.set_encut(320.0)\n",
    "    job_vasp_strain.structure = basis.copy()\n",
    "    job_vasp_strain.structure.set_cell(cell=basis.cell * strain ** (1/3), scale_atoms=True)\n",
    "    job_vasp_strain.run()"
   ]
  },
  {
   "cell_type": "markdown",
   "metadata": {
    "ExecuteTime": {
     "end_time": "2018-10-16T18:51:35.690791Z",
     "start_time": "2018-10-16T18:51:11.248Z"
    }
   },
   "source": [
    "As these are simple calculation, there is no need to submit them to the queuing sytem. We can confirm the status of the calculation with the job_table. If the status of each job is marked as finished, then we can continue with the next step."
   ]
  },
  {
   "cell_type": "code",
   "execution_count": 5,
   "metadata": {
    "ExecuteTime": {
     "end_time": "2019-09-04T12:58:12.728534Z",
     "start_time": "2019-09-04T12:58:12.118542Z"
    }
   },
   "outputs": [
    {
     "data": {
      "text/html": [
       "<div>\n",
       "<style scoped>\n",
       "    .dataframe tbody tr th:only-of-type {\n",
       "        vertical-align: middle;\n",
       "    }\n",
       "\n",
       "    .dataframe tbody tr th {\n",
       "        vertical-align: top;\n",
       "    }\n",
       "\n",
       "    .dataframe thead th {\n",
       "        text-align: right;\n",
       "    }\n",
       "</style>\n",
       "<table border=\"1\" class=\"dataframe\">\n",
       "  <thead>\n",
       "    <tr style=\"text-align: right;\">\n",
       "      <th></th>\n",
       "      <th>id</th>\n",
       "      <th>status</th>\n",
       "      <th>chemicalformula</th>\n",
       "      <th>job</th>\n",
       "      <th>subjob</th>\n",
       "      <th>projectpath</th>\n",
       "      <th>project</th>\n",
       "      <th>timestart</th>\n",
       "      <th>timestop</th>\n",
       "      <th>totalcputime</th>\n",
       "      <th>computer</th>\n",
       "      <th>hamilton</th>\n",
       "      <th>hamversion</th>\n",
       "      <th>parentid</th>\n",
       "      <th>masterid</th>\n",
       "    </tr>\n",
       "  </thead>\n",
       "  <tbody>\n",
       "    <tr>\n",
       "      <th>0</th>\n",
       "      <td>1</td>\n",
       "      <td>finished</td>\n",
       "      <td>None</td>\n",
       "      <td>gpaw_0_95</td>\n",
       "      <td>/gpaw_0_95</td>\n",
       "      <td>None</td>\n",
       "      <td>/home/jovyan/thermo/</td>\n",
       "      <td>2020-10-02 17:24:24.200176</td>\n",
       "      <td>None</td>\n",
       "      <td>None</td>\n",
       "      <td>pyiron@jupyter-pyiron-2dpyiron-2d996ovb6h#1</td>\n",
       "      <td>GpawJob</td>\n",
       "      <td>None</td>\n",
       "      <td>None</td>\n",
       "      <td>None</td>\n",
       "    </tr>\n",
       "    <tr>\n",
       "      <th>1</th>\n",
       "      <td>2</td>\n",
       "      <td>finished</td>\n",
       "      <td>None</td>\n",
       "      <td>gpaw_0_9666666666666667</td>\n",
       "      <td>/gpaw_0_9666666666666667</td>\n",
       "      <td>None</td>\n",
       "      <td>/home/jovyan/thermo/</td>\n",
       "      <td>2020-10-02 17:26:45.417210</td>\n",
       "      <td>None</td>\n",
       "      <td>None</td>\n",
       "      <td>pyiron@jupyter-pyiron-2dpyiron-2d996ovb6h#1</td>\n",
       "      <td>GpawJob</td>\n",
       "      <td>None</td>\n",
       "      <td>None</td>\n",
       "      <td>None</td>\n",
       "    </tr>\n",
       "    <tr>\n",
       "      <th>2</th>\n",
       "      <td>3</td>\n",
       "      <td>finished</td>\n",
       "      <td>None</td>\n",
       "      <td>gpaw_0_9833333333333333</td>\n",
       "      <td>/gpaw_0_9833333333333333</td>\n",
       "      <td>None</td>\n",
       "      <td>/home/jovyan/thermo/</td>\n",
       "      <td>2020-10-02 17:28:37.112334</td>\n",
       "      <td>None</td>\n",
       "      <td>None</td>\n",
       "      <td>pyiron@jupyter-pyiron-2dpyiron-2d996ovb6h#1</td>\n",
       "      <td>GpawJob</td>\n",
       "      <td>None</td>\n",
       "      <td>None</td>\n",
       "      <td>None</td>\n",
       "    </tr>\n",
       "    <tr>\n",
       "      <th>3</th>\n",
       "      <td>4</td>\n",
       "      <td>finished</td>\n",
       "      <td>None</td>\n",
       "      <td>gpaw_1_0</td>\n",
       "      <td>/gpaw_1_0</td>\n",
       "      <td>None</td>\n",
       "      <td>/home/jovyan/thermo/</td>\n",
       "      <td>2020-10-02 17:30:26.714705</td>\n",
       "      <td>None</td>\n",
       "      <td>None</td>\n",
       "      <td>pyiron@jupyter-pyiron-2dpyiron-2d996ovb6h#1</td>\n",
       "      <td>GpawJob</td>\n",
       "      <td>None</td>\n",
       "      <td>None</td>\n",
       "      <td>None</td>\n",
       "    </tr>\n",
       "    <tr>\n",
       "      <th>4</th>\n",
       "      <td>5</td>\n",
       "      <td>finished</td>\n",
       "      <td>None</td>\n",
       "      <td>gpaw_1_0166666666666666</td>\n",
       "      <td>/gpaw_1_0166666666666666</td>\n",
       "      <td>None</td>\n",
       "      <td>/home/jovyan/thermo/</td>\n",
       "      <td>2020-10-02 17:31:58.800251</td>\n",
       "      <td>None</td>\n",
       "      <td>None</td>\n",
       "      <td>pyiron@jupyter-pyiron-2dpyiron-2d996ovb6h#1</td>\n",
       "      <td>GpawJob</td>\n",
       "      <td>None</td>\n",
       "      <td>None</td>\n",
       "      <td>None</td>\n",
       "    </tr>\n",
       "    <tr>\n",
       "      <th>5</th>\n",
       "      <td>6</td>\n",
       "      <td>finished</td>\n",
       "      <td>None</td>\n",
       "      <td>gpaw_1_0333333333333334</td>\n",
       "      <td>/gpaw_1_0333333333333334</td>\n",
       "      <td>None</td>\n",
       "      <td>/home/jovyan/thermo/</td>\n",
       "      <td>2020-10-02 17:34:47.304029</td>\n",
       "      <td>None</td>\n",
       "      <td>None</td>\n",
       "      <td>pyiron@jupyter-pyiron-2dpyiron-2d996ovb6h#1</td>\n",
       "      <td>GpawJob</td>\n",
       "      <td>None</td>\n",
       "      <td>None</td>\n",
       "      <td>None</td>\n",
       "    </tr>\n",
       "    <tr>\n",
       "      <th>6</th>\n",
       "      <td>7</td>\n",
       "      <td>finished</td>\n",
       "      <td>None</td>\n",
       "      <td>gpaw_1_05</td>\n",
       "      <td>/gpaw_1_05</td>\n",
       "      <td>None</td>\n",
       "      <td>/home/jovyan/thermo/</td>\n",
       "      <td>2020-10-02 17:36:23.322563</td>\n",
       "      <td>None</td>\n",
       "      <td>None</td>\n",
       "      <td>pyiron@jupyter-pyiron-2dpyiron-2d996ovb6h#1</td>\n",
       "      <td>GpawJob</td>\n",
       "      <td>None</td>\n",
       "      <td>None</td>\n",
       "      <td>None</td>\n",
       "    </tr>\n",
       "  </tbody>\n",
       "</table>\n",
       "</div>"
      ],
      "text/plain": [
       "   id    status chemicalformula                      job  \\\n",
       "0   1  finished            None                gpaw_0_95   \n",
       "1   2  finished            None  gpaw_0_9666666666666667   \n",
       "2   3  finished            None  gpaw_0_9833333333333333   \n",
       "3   4  finished            None                 gpaw_1_0   \n",
       "4   5  finished            None  gpaw_1_0166666666666666   \n",
       "5   6  finished            None  gpaw_1_0333333333333334   \n",
       "6   7  finished            None                gpaw_1_05   \n",
       "\n",
       "                     subjob projectpath               project  \\\n",
       "0                /gpaw_0_95        None  /home/jovyan/thermo/   \n",
       "1  /gpaw_0_9666666666666667        None  /home/jovyan/thermo/   \n",
       "2  /gpaw_0_9833333333333333        None  /home/jovyan/thermo/   \n",
       "3                 /gpaw_1_0        None  /home/jovyan/thermo/   \n",
       "4  /gpaw_1_0166666666666666        None  /home/jovyan/thermo/   \n",
       "5  /gpaw_1_0333333333333334        None  /home/jovyan/thermo/   \n",
       "6                /gpaw_1_05        None  /home/jovyan/thermo/   \n",
       "\n",
       "                   timestart timestop totalcputime  \\\n",
       "0 2020-10-02 17:24:24.200176     None         None   \n",
       "1 2020-10-02 17:26:45.417210     None         None   \n",
       "2 2020-10-02 17:28:37.112334     None         None   \n",
       "3 2020-10-02 17:30:26.714705     None         None   \n",
       "4 2020-10-02 17:31:58.800251     None         None   \n",
       "5 2020-10-02 17:34:47.304029     None         None   \n",
       "6 2020-10-02 17:36:23.322563     None         None   \n",
       "\n",
       "                                      computer hamilton hamversion parentid  \\\n",
       "0  pyiron@jupyter-pyiron-2dpyiron-2d996ovb6h#1  GpawJob       None     None   \n",
       "1  pyiron@jupyter-pyiron-2dpyiron-2d996ovb6h#1  GpawJob       None     None   \n",
       "2  pyiron@jupyter-pyiron-2dpyiron-2d996ovb6h#1  GpawJob       None     None   \n",
       "3  pyiron@jupyter-pyiron-2dpyiron-2d996ovb6h#1  GpawJob       None     None   \n",
       "4  pyiron@jupyter-pyiron-2dpyiron-2d996ovb6h#1  GpawJob       None     None   \n",
       "5  pyiron@jupyter-pyiron-2dpyiron-2d996ovb6h#1  GpawJob       None     None   \n",
       "6  pyiron@jupyter-pyiron-2dpyiron-2d996ovb6h#1  GpawJob       None     None   \n",
       "\n",
       "  masterid  \n",
       "0     None  \n",
       "1     None  \n",
       "2     None  \n",
       "3     None  \n",
       "4     None  \n",
       "5     None  \n",
       "6     None  "
      ]
     },
     "execution_count": 5,
     "metadata": {},
     "output_type": "execute_result"
    }
   ],
   "source": [
    "pr.job_table()"
   ]
  },
  {
   "cell_type": "markdown",
   "metadata": {},
   "source": [
    "## Analysis"
   ]
  },
  {
   "cell_type": "markdown",
   "metadata": {},
   "source": [
    "We aggregate the data for further processing in two separated lists, one for the volumes and one for the energies. To do so we iterate over the jobs within the project, filter the job names which contain the string 'vasp' and from those extract the final volume and the final energy. "
   ]
  },
  {
   "cell_type": "code",
   "execution_count": 6,
   "metadata": {
    "ExecuteTime": {
     "end_time": "2019-09-04T12:58:14.448207Z",
     "start_time": "2019-09-04T12:58:12.730038Z"
    }
   },
   "outputs": [],
   "source": [
    "volume_lst, energy_lst = zip(*[[job['output/generic/volume'][-1], job['output/generic/energy_pot'][-1]] \n",
    "                               for job in pr.iter_jobs(convert_to_object=False) if 'gpaw' in job.job_name])   "
   ]
  },
  {
   "cell_type": "markdown",
   "metadata": {
    "ExecuteTime": {
     "end_time": "2018-10-16T19:02:33.916818Z",
     "start_time": "2018-10-16T19:02:33.912978Z"
    }
   },
   "source": [
    "We plot the aggregated data using matplotlib. "
   ]
  },
  {
   "cell_type": "code",
   "execution_count": 7,
   "metadata": {
    "ExecuteTime": {
     "end_time": "2019-09-04T12:58:14.873088Z",
     "start_time": "2019-09-04T12:58:14.449911Z"
    }
   },
   "outputs": [
    {
     "data": {
      "text/plain": [
       "Text(0, 0.5, 'Energy (eV)')"
      ]
     },
     "execution_count": 7,
     "metadata": {},
     "output_type": "execute_result"
    },
    {
     "data": {
      "image/png": "[encoded data removed]",
      "text/plain": [
       "<Figure size 432x288 with 1 Axes>"
      ]
     },
     "metadata": {
      "needs_background": "light"
     },
     "output_type": "display_data"
    }
   ],
   "source": [
    "plt.plot(volume_lst, energy_lst, 'x-')\n",
    "plt.xlabel('Volume ($\\AA ^ 3$)')\n",
    "plt.ylabel('Energy (eV)')"
   ]
  },
  {
   "cell_type": "markdown",
   "metadata": {
    "ExecuteTime": {
     "end_time": "2018-10-16T19:12:50.900916Z",
     "start_time": "2018-10-16T19:12:50.896333Z"
    }
   },
   "source": [
    "## Encut Dependence\n",
    "To extend the complexity of our simulation protocol we can not only iterate over different strains but also different energy cutoffs. For this we use multiple sub projects to structure the data. And we summarize the previous code in multiple functions to maintain a high level of readability. The first function calculates a specific strained configuration for an specifc energy cut off, while the second function analyses the different strained calculations for a specific energy cutoff and returns the list of energy volume pairs."
   ]
  },
  {
   "cell_type": "markdown",
   "metadata": {},
   "source": [
    "### Functions"
   ]
  },
  {
   "cell_type": "code",
   "execution_count": 8,
   "metadata": {
    "ExecuteTime": {
     "end_time": "2019-09-04T12:58:14.881066Z",
     "start_time": "2019-09-04T12:58:14.876094Z"
    }
   },
   "outputs": [],
   "source": [
    "def vasp_calculation_for_strain(pr, basis, strain, encut):\n",
    "    strain_str = str(strain).replace('.', '_')\n",
    "    job_vasp_strain = pr.create_job(job_type=pr.job_type.Gpaw, job_name='gpaw_' + strain_str)\n",
    "    job_vasp_strain.set_encut(encut)\n",
    "    job_vasp_strain.structure = basis.copy()\n",
    "    job_vasp_strain.structure.set_cell(cell=basis.cell * strain ** (1/3), scale_atoms=True)\n",
    "    job_vasp_strain.run()"
   ]
  },
  {
   "cell_type": "code",
   "execution_count": 9,
   "metadata": {
    "ExecuteTime": {
     "end_time": "2019-09-04T12:58:14.895675Z",
     "start_time": "2019-09-04T12:58:14.883541Z"
    }
   },
   "outputs": [],
   "source": [
    "def energy_volume_pairs(pr):\n",
    "    volume_lst, energy_lst = zip(*[[job['output/generic/volume'][-1], job['output/generic/energy_pot'][-1]] \n",
    "                               for job in pr.iter_jobs(convert_to_object=False) if 'gpaw' in job.job_name])\n",
    "    return volume_lst, energy_lst"
   ]
  },
  {
   "cell_type": "markdown",
   "metadata": {},
   "source": [
    "### Calculation"
   ]
  },
  {
   "cell_type": "markdown",
   "metadata": {},
   "source": [
    "With these functions we can structure our code and implement the additional for loop to include multiple energy cutoffs."
   ]
  },
  {
   "cell_type": "code",
   "execution_count": 10,
   "metadata": {
    "ExecuteTime": {
     "end_time": "2019-09-04T12:58:32.618120Z",
     "start_time": "2019-09-04T12:58:14.897403Z"
    }
   },
   "outputs": [
    {
     "name": "stdout",
     "output_type": "stream",
     "text": [
      "The job gpaw_0_95 was saved and received the ID: 8\n",
      "The job gpaw_0_9666666666666667 was saved and received the ID: 9\n",
      "The job gpaw_0_9833333333333333 was saved and received the ID: 10\n",
      "The job gpaw_1_0 was saved and received the ID: 11\n",
      "The job gpaw_1_0166666666666666 was saved and received the ID: 12\n",
      "The job gpaw_1_0333333333333334 was saved and received the ID: 13\n",
      "The job gpaw_1_05 was saved and received the ID: 14\n",
      "The job gpaw_0_95 was saved and received the ID: 15\n",
      "The job gpaw_0_9666666666666667 was saved and received the ID: 16\n",
      "The job gpaw_0_9833333333333333 was saved and received the ID: 17\n",
      "The job gpaw_1_0 was saved and received the ID: 18\n",
      "The job gpaw_1_0166666666666666 was saved and received the ID: 19\n",
      "The job gpaw_1_0333333333333334 was saved and received the ID: 20\n",
      "The job gpaw_1_05 was saved and received the ID: 21\n",
      "The job gpaw_0_95 was saved and received the ID: 22\n",
      "The job gpaw_0_9666666666666667 was saved and received the ID: 23\n",
      "The job gpaw_0_9833333333333333 was saved and received the ID: 24\n",
      "The job gpaw_1_0 was saved and received the ID: 25\n",
      "The job gpaw_1_0166666666666666 was saved and received the ID: 26\n",
      "The job gpaw_1_0333333333333334 was saved and received the ID: 27\n",
      "The job gpaw_1_05 was saved and received the ID: 28\n",
      "The job gpaw_0_95 was saved and received the ID: 29\n",
      "The job gpaw_0_9666666666666667 was saved and received the ID: 30\n",
      "The job gpaw_0_9833333333333333 was saved and received the ID: 31\n",
      "The job gpaw_1_0 was saved and received the ID: 32\n",
      "The job gpaw_1_0166666666666666 was saved and received the ID: 33\n",
      "The job gpaw_1_0333333333333334 was saved and received the ID: 34\n",
      "The job gpaw_1_05 was saved and received the ID: 35\n",
      "The job gpaw_0_95 was saved and received the ID: 36\n",
      "The job gpaw_0_9666666666666667 was saved and received the ID: 37\n",
      "The job gpaw_0_9833333333333333 was saved and received the ID: 38\n",
      "The job gpaw_1_0 was saved and received the ID: 39\n",
      "The job gpaw_1_0166666666666666 was saved and received the ID: 40\n",
      "The job gpaw_1_0333333333333334 was saved and received the ID: 41\n",
      "The job gpaw_1_05 was saved and received the ID: 42\n",
      "The job gpaw_0_95 was saved and received the ID: 43\n",
      "The job gpaw_0_9666666666666667 was saved and received the ID: 44\n",
      "The job gpaw_0_9833333333333333 was saved and received the ID: 45\n",
      "The job gpaw_1_0 was saved and received the ID: 46\n",
      "The job gpaw_1_0166666666666666 was saved and received the ID: 47\n",
      "The job gpaw_1_0333333333333334 was saved and received the ID: 48\n",
      "The job gpaw_1_05 was saved and received the ID: 49\n"
     ]
    }
   ],
   "source": [
    "for encut in np.linspace(270, 320, 6):\n",
    "    encut_str = 'encut_' + str(int(encut))\n",
    "    pr_encut = pr.open(encut_str)\n",
    "    for strain in np.linspace(0.95, 1.05, 7):\n",
    "        vasp_calculation_for_strain(pr=pr_encut, \n",
    "                                    basis=basis, \n",
    "                                    strain=strain, \n",
    "                                    encut=encut)"
   ]
  },
  {
   "cell_type": "markdown",
   "metadata": {},
   "source": [
    "### Analysis "
   ]
  },
  {
   "cell_type": "markdown",
   "metadata": {
    "ExecuteTime": {
     "end_time": "2018-10-16T19:27:02.877244Z",
     "start_time": "2018-10-16T19:27:02.873384Z"
    }
   },
   "source": [
    "The analysis is structured in a similar way. Here we use iter_groups() to iterate over the existing subprojects within our project and plot the individual energy volume curves using the functions defined above. "
   ]
  },
  {
   "cell_type": "code",
   "execution_count": 11,
   "metadata": {
    "ExecuteTime": {
     "end_time": "2019-09-04T12:58:37.013569Z",
     "start_time": "2019-09-04T12:58:32.663233Z"
    }
   },
   "outputs": [
    {
     "data": {
      "text/plain": [
       "<matplotlib.legend.Legend at 0x7f638828d6d0>"
      ]
     },
     "execution_count": 11,
     "metadata": {},
     "output_type": "execute_result"
    },
    {
     "data": {
      "image/png": "[encoded data removed]",
      "text/plain": [
       "<Figure size 432x288 with 1 Axes>"
      ]
     },
     "metadata": {
      "needs_background": "light"
     },
     "output_type": "display_data"
    }
   ],
   "source": [
    "for pr_encut in pr.iter_groups():\n",
    "    volume_lst, energy_lst = energy_volume_pairs(pr_encut)\n",
    "    plt.plot(volume_lst, energy_lst, 'x-', label=pr_encut.base_name)\n",
    "plt.xlabel('Volume ($\\AA ^ 3$)')\n",
    "plt.ylabel('Energy (eV)')\n",
    "plt.legend()"
   ]
  },
  {
   "cell_type": "markdown",
   "metadata": {},
   "source": [
    "## Fitting\n",
    "After we created multiple datasets we can now start to fit the converged results. While it is possible to fit the results using a simple polynomial fit we prefer to use the phyiscally motivated birch murnaghan equation or the vinet equation. For this we create the Murnaghan object and use it is fitting functionality:"
   ]
  },
  {
   "cell_type": "code",
   "execution_count": 12,
   "metadata": {
    "ExecuteTime": {
     "end_time": "2019-09-04T12:58:37.264136Z",
     "start_time": "2019-09-04T12:58:37.015213Z"
    }
   },
   "outputs": [],
   "source": [
    "murn = pr.create_job(job_type=pr.job_type.Murnaghan, job_name='murn')"
   ]
  },
  {
   "cell_type": "markdown",
   "metadata": {},
   "source": [
    "### Birch Marnaghan"
   ]
  },
  {
   "cell_type": "code",
   "execution_count": 13,
   "metadata": {
    "ExecuteTime": {
     "end_time": "2019-09-04T12:58:37.310070Z",
     "start_time": "2019-09-04T12:58:37.302889Z"
    }
   },
   "outputs": [
    {
     "data": {
      "text/plain": [
       "[-16.623387215037408, 280.9875784436634, 4.060730693834813, 21.19199044120968]"
      ]
     },
     "execution_count": 13,
     "metadata": {},
     "output_type": "execute_result"
    }
   ],
   "source": [
    "[e0, b0, bP, v0], [e0_error, b0_error, bP_error, v0_error] = murn._fit_leastsq(volume_lst=volume_lst,\n",
    "                                                                               energy_lst=energy_lst,\n",
    "                                                                               fittype='birchmurnaghan')\n",
    "[e0, b0, bP, v0] "
   ]
  },
  {
   "cell_type": "markdown",
   "metadata": {},
   "source": [
    "### Vinet"
   ]
  },
  {
   "cell_type": "code",
   "execution_count": 14,
   "metadata": {
    "ExecuteTime": {
     "end_time": "2019-09-04T12:58:37.322375Z",
     "start_time": "2019-09-04T12:58:37.311758Z"
    }
   },
   "outputs": [
    {
     "data": {
      "text/plain": [
       "[-16.623384845899427, 280.93805771100557, 4.105492272090299, 21.19185363600345]"
      ]
     },
     "execution_count": 14,
     "metadata": {},
     "output_type": "execute_result"
    }
   ],
   "source": [
    "[e0, b0, bP, v0], [e0_error, b0_error, bP_error, v0_error] = murn._fit_leastsq(volume_lst=volume_lst,\n",
    "                                                                               energy_lst=energy_lst,\n",
    "                                                                               fittype='vinet')\n",
    "[e0, b0, bP, v0] "
   ]
  },
  {
   "cell_type": "markdown",
   "metadata": {},
   "source": [
    "We see that both equation of states give slightly different results, with overall good agreement. To validate the agreement we plot the with with the original data."
   ]
  },
  {
   "cell_type": "code",
   "execution_count": 15,
   "metadata": {
    "ExecuteTime": {
     "end_time": "2019-09-04T12:58:37.530517Z",
     "start_time": "2019-09-04T12:58:37.324021Z"
    }
   },
   "outputs": [
    {
     "data": {
      "text/plain": [
       "<matplotlib.legend.Legend at 0x7f638078d150>"
      ]
     },
     "execution_count": 15,
     "metadata": {},
     "output_type": "execute_result"
    },
    {
     "data": {
      "image/png": "[encoded data removed]",
      "text/plain": [
       "<Figure size 432x288 with 1 Axes>"
      ]
     },
     "metadata": {
      "needs_background": "light"
     },
     "output_type": "display_data"
    }
   ],
   "source": [
    "vol_lst = np.linspace(np.min(volume_lst), np.max(volume_lst), 1000)\n",
    "plt.plot(volume_lst, energy_lst, label='dft')\n",
    "plt.plot(vol_lst, murn.fit_module.vinet_energy(vol_lst, e0, b0/ 160.21766208, bP, v0), label='vinet')\n",
    "plt.xlabel('Volume ($\\AA ^ 3$)')\n",
    "plt.ylabel('Energy (eV)')\n",
    "plt.legend()"
   ]
  },
  {
   "cell_type": "markdown",
   "metadata": {},
   "source": [
    "## Murnaghan Module \n",
    "Besides the fitting capabilities the Murnaghan module can also be used to run a set of calculations. For this we define a reference job, which can be either a Vasp calculation or any other pyiron job type and then specify the input parameters for the Murnaghan job."
   ]
  },
  {
   "cell_type": "code",
   "execution_count": 16,
   "metadata": {
    "ExecuteTime": {
     "end_time": "2019-09-04T12:58:37.644025Z",
     "start_time": "2019-09-04T12:58:37.532255Z"
    }
   },
   "outputs": [],
   "source": [
    "job_vasp_strain = pr.create_job(job_type=pr.job_type.Gpaw, job_name='gpaw')\n",
    "job_vasp_strain.set_encut(320)\n",
    "job_vasp_strain.structure = basis.copy()"
   ]
  },
  {
   "cell_type": "code",
   "execution_count": 17,
   "metadata": {
    "ExecuteTime": {
     "end_time": "2019-09-04T12:58:37.895833Z",
     "start_time": "2019-09-04T12:58:37.675200Z"
    }
   },
   "outputs": [
    {
     "data": {
      "text/html": [
       "<div>\n",
       "<style scoped>\n",
       "    .dataframe tbody tr th:only-of-type {\n",
       "        vertical-align: middle;\n",
       "    }\n",
       "\n",
       "    .dataframe tbody tr th {\n",
       "        vertical-align: top;\n",
       "    }\n",
       "\n",
       "    .dataframe thead th {\n",
       "        text-align: right;\n",
       "    }\n",
       "</style>\n",
       "<table border=\"1\" class=\"dataframe\">\n",
       "  <thead>\n",
       "    <tr style=\"text-align: right;\">\n",
       "      <th></th>\n",
       "      <th>Parameter</th>\n",
       "      <th>Value</th>\n",
       "      <th>Comment</th>\n",
       "    </tr>\n",
       "  </thead>\n",
       "  <tbody>\n",
       "    <tr>\n",
       "      <th>0</th>\n",
       "      <td>num_points</td>\n",
       "      <td>11</td>\n",
       "      <td>number of sample points</td>\n",
       "    </tr>\n",
       "    <tr>\n",
       "      <th>1</th>\n",
       "      <td>fit_type</td>\n",
       "      <td>polynomial</td>\n",
       "      <td>['polynomial', 'birch', 'birchmurnaghan', 'murnaghan', 'pouriertarantola', 'vinet']</td>\n",
       "    </tr>\n",
       "    <tr>\n",
       "      <th>2</th>\n",
       "      <td>fit_order</td>\n",
       "      <td>3</td>\n",
       "      <td>order of the fit polynom</td>\n",
       "    </tr>\n",
       "    <tr>\n",
       "      <th>3</th>\n",
       "      <td>vol_range</td>\n",
       "      <td>0.1</td>\n",
       "      <td>relative volume variation around volume defined by ref_ham</td>\n",
       "    </tr>\n",
       "  </tbody>\n",
       "</table>\n",
       "</div>"
      ],
      "text/plain": [
       "    Parameter       Value  \\\n",
       "0  num_points          11   \n",
       "1    fit_type  polynomial   \n",
       "2   fit_order           3   \n",
       "3   vol_range         0.1   \n",
       "\n",
       "                                                                               Comment  \n",
       "0                                                              number of sample points  \n",
       "1  ['polynomial', 'birch', 'birchmurnaghan', 'murnaghan', 'pouriertarantola', 'vinet']  \n",
       "2                                                             order of the fit polynom  \n",
       "3                           relative volume variation around volume defined by ref_ham  "
      ]
     },
     "execution_count": 17,
     "metadata": {},
     "output_type": "execute_result"
    }
   ],
   "source": [
    "murn = pr.create_job(job_type=pr.job_type.Murnaghan, job_name='murn')\n",
    "murn.ref_job = job_vasp_strain\n",
    "murn.input"
   ]
  },
  {
   "cell_type": "markdown",
   "metadata": {},
   "source": [
    "We modify the input parameters to agree with the settings used in the examples above and execute the simulation by calling the run command on the murnaghan job object."
   ]
  },
  {
   "cell_type": "code",
   "execution_count": 18,
   "metadata": {
    "ExecuteTime": {
     "end_time": "2019-09-04T12:58:37.933789Z",
     "start_time": "2019-09-04T12:58:37.931262Z"
    }
   },
   "outputs": [],
   "source": [
    "murn.input['num_points'] = 7\n",
    "murn.input['vol_range'] = 0.05"
   ]
  },
  {
   "cell_type": "code",
   "execution_count": 19,
   "metadata": {
    "ExecuteTime": {
     "end_time": "2019-09-04T12:58:37.983849Z",
     "start_time": "2019-09-04T12:58:37.935426Z"
    }
   },
   "outputs": [
    {
     "data": {
      "text/plain": [
       "ase.atoms.Atoms"
      ]
     },
     "execution_count": 19,
     "metadata": {},
     "output_type": "execute_result"
    }
   ],
   "source": [
    "type(murn.structure)"
   ]
  },
  {
   "cell_type": "code",
   "execution_count": 20,
   "metadata": {
    "ExecuteTime": {
     "end_time": "2019-09-04T12:58:38.465443Z",
     "start_time": "2019-09-04T12:58:37.985315Z"
    }
   },
   "outputs": [
    {
     "data": {
      "text/html": [
       "<div>\n",
       "<style scoped>\n",
       "    .dataframe tbody tr th:only-of-type {\n",
       "        vertical-align: middle;\n",
       "    }\n",
       "\n",
       "    .dataframe tbody tr th {\n",
       "        vertical-align: top;\n",
       "    }\n",
       "\n",
       "    .dataframe thead th {\n",
       "        text-align: right;\n",
       "    }\n",
       "</style>\n",
       "<table border=\"1\" class=\"dataframe\">\n",
       "  <thead>\n",
       "    <tr style=\"text-align: right;\">\n",
       "      <th></th>\n",
       "      <th>id</th>\n",
       "      <th>status</th>\n",
       "      <th>chemicalformula</th>\n",
       "      <th>job</th>\n",
       "      <th>subjob</th>\n",
       "      <th>projectpath</th>\n",
       "      <th>project</th>\n",
       "      <th>timestart</th>\n",
       "      <th>timestop</th>\n",
       "      <th>totalcputime</th>\n",
       "      <th>computer</th>\n",
       "      <th>hamilton</th>\n",
       "      <th>hamversion</th>\n",
       "      <th>parentid</th>\n",
       "      <th>masterid</th>\n",
       "    </tr>\n",
       "  </thead>\n",
       "  <tbody>\n",
       "    <tr>\n",
       "      <th>0</th>\n",
       "      <td>1</td>\n",
       "      <td>finished</td>\n",
       "      <td>None</td>\n",
       "      <td>gpaw_0_95</td>\n",
       "      <td>/gpaw_0_95</td>\n",
       "      <td>None</td>\n",
       "      <td>/home/jovyan/thermo/</td>\n",
       "      <td>2020-10-02 17:24:24.200176</td>\n",
       "      <td>None</td>\n",
       "      <td>None</td>\n",
       "      <td>pyiron@jupyter-pyiron-2dpyiron-2d996ovb6h#1</td>\n",
       "      <td>GpawJob</td>\n",
       "      <td>None</td>\n",
       "      <td>None</td>\n",
       "      <td>None</td>\n",
       "    </tr>\n",
       "    <tr>\n",
       "      <th>1</th>\n",
       "      <td>2</td>\n",
       "      <td>finished</td>\n",
       "      <td>None</td>\n",
       "      <td>gpaw_0_9666666666666667</td>\n",
       "      <td>/gpaw_0_9666666666666667</td>\n",
       "      <td>None</td>\n",
       "      <td>/home/jovyan/thermo/</td>\n",
       "      <td>2020-10-02 17:26:45.417210</td>\n",
       "      <td>None</td>\n",
       "      <td>None</td>\n",
       "      <td>pyiron@jupyter-pyiron-2dpyiron-2d996ovb6h#1</td>\n",
       "      <td>GpawJob</td>\n",
       "      <td>None</td>\n",
       "      <td>None</td>\n",
       "      <td>None</td>\n",
       "    </tr>\n",
       "    <tr>\n",
       "      <th>2</th>\n",
       "      <td>3</td>\n",
       "      <td>finished</td>\n",
       "      <td>None</td>\n",
       "      <td>gpaw_0_9833333333333333</td>\n",
       "      <td>/gpaw_0_9833333333333333</td>\n",
       "      <td>None</td>\n",
       "      <td>/home/jovyan/thermo/</td>\n",
       "      <td>2020-10-02 17:28:37.112334</td>\n",
       "      <td>None</td>\n",
       "      <td>None</td>\n",
       "      <td>pyiron@jupyter-pyiron-2dpyiron-2d996ovb6h#1</td>\n",
       "      <td>GpawJob</td>\n",
       "      <td>None</td>\n",
       "      <td>None</td>\n",
       "      <td>None</td>\n",
       "    </tr>\n",
       "    <tr>\n",
       "      <th>3</th>\n",
       "      <td>4</td>\n",
       "      <td>finished</td>\n",
       "      <td>None</td>\n",
       "      <td>gpaw_1_0</td>\n",
       "      <td>/gpaw_1_0</td>\n",
       "      <td>None</td>\n",
       "      <td>/home/jovyan/thermo/</td>\n",
       "      <td>2020-10-02 17:30:26.714705</td>\n",
       "      <td>None</td>\n",
       "      <td>None</td>\n",
       "      <td>pyiron@jupyter-pyiron-2dpyiron-2d996ovb6h#1</td>\n",
       "      <td>GpawJob</td>\n",
       "      <td>None</td>\n",
       "      <td>None</td>\n",
       "      <td>None</td>\n",
       "    </tr>\n",
       "    <tr>\n",
       "      <th>4</th>\n",
       "      <td>5</td>\n",
       "      <td>finished</td>\n",
       "      <td>None</td>\n",
       "      <td>gpaw_1_0166666666666666</td>\n",
       "      <td>/gpaw_1_0166666666666666</td>\n",
       "      <td>None</td>\n",
       "      <td>/home/jovyan/thermo/</td>\n",
       "      <td>2020-10-02 17:31:58.800251</td>\n",
       "      <td>None</td>\n",
       "      <td>None</td>\n",
       "      <td>pyiron@jupyter-pyiron-2dpyiron-2d996ovb6h#1</td>\n",
       "      <td>GpawJob</td>\n",
       "      <td>None</td>\n",
       "      <td>None</td>\n",
       "      <td>None</td>\n",
       "    </tr>\n",
       "    <tr>\n",
       "      <th>5</th>\n",
       "      <td>6</td>\n",
       "      <td>finished</td>\n",
       "      <td>None</td>\n",
       "      <td>gpaw_1_0333333333333334</td>\n",
       "      <td>/gpaw_1_0333333333333334</td>\n",
       "      <td>None</td>\n",
       "      <td>/home/jovyan/thermo/</td>\n",
       "      <td>2020-10-02 17:34:47.304029</td>\n",
       "      <td>None</td>\n",
       "      <td>None</td>\n",
       "      <td>pyiron@jupyter-pyiron-2dpyiron-2d996ovb6h#1</td>\n",
       "      <td>GpawJob</td>\n",
       "      <td>None</td>\n",
       "      <td>None</td>\n",
       "      <td>None</td>\n",
       "    </tr>\n",
       "    <tr>\n",
       "      <th>6</th>\n",
       "      <td>7</td>\n",
       "      <td>finished</td>\n",
       "      <td>None</td>\n",
       "      <td>gpaw_1_05</td>\n",
       "      <td>/gpaw_1_05</td>\n",
       "      <td>None</td>\n",
       "      <td>/home/jovyan/thermo/</td>\n",
       "      <td>2020-10-02 17:36:23.322563</td>\n",
       "      <td>None</td>\n",
       "      <td>None</td>\n",
       "      <td>pyiron@jupyter-pyiron-2dpyiron-2d996ovb6h#1</td>\n",
       "      <td>GpawJob</td>\n",
       "      <td>None</td>\n",
       "      <td>None</td>\n",
       "      <td>None</td>\n",
       "    </tr>\n",
       "    <tr>\n",
       "      <th>7</th>\n",
       "      <td>8</td>\n",
       "      <td>finished</td>\n",
       "      <td>None</td>\n",
       "      <td>gpaw_0_95</td>\n",
       "      <td>/gpaw_0_95</td>\n",
       "      <td>None</td>\n",
       "      <td>/home/jovyan/thermo/encut_270/</td>\n",
       "      <td>2020-10-02 17:38:00.805999</td>\n",
       "      <td>None</td>\n",
       "      <td>None</td>\n",
       "      <td>pyiron@jupyter-pyiron-2dpyiron-2d996ovb6h#1</td>\n",
       "      <td>GpawJob</td>\n",
       "      <td>None</td>\n",
       "      <td>None</td>\n",
       "      <td>None</td>\n",
       "    </tr>\n",
       "    <tr>\n",
       "      <th>8</th>\n",
       "      <td>9</td>\n",
       "      <td>finished</td>\n",
       "      <td>None</td>\n",
       "      <td>gpaw_0_9666666666666667</td>\n",
       "      <td>/gpaw_0_9666666666666667</td>\n",
       "      <td>None</td>\n",
       "      <td>/home/jovyan/thermo/encut_270/</td>\n",
       "      <td>2020-10-02 17:40:27.023982</td>\n",
       "      <td>None</td>\n",
       "      <td>None</td>\n",
       "      <td>pyiron@jupyter-pyiron-2dpyiron-2d996ovb6h#1</td>\n",
       "      <td>GpawJob</td>\n",
       "      <td>None</td>\n",
       "      <td>None</td>\n",
       "      <td>None</td>\n",
       "    </tr>\n",
       "    <tr>\n",
       "      <th>9</th>\n",
       "      <td>10</td>\n",
       "      <td>finished</td>\n",
       "      <td>None</td>\n",
       "      <td>gpaw_0_9833333333333333</td>\n",
       "      <td>/gpaw_0_9833333333333333</td>\n",
       "      <td>None</td>\n",
       "      <td>/home/jovyan/thermo/encut_270/</td>\n",
       "      <td>2020-10-02 17:42:55.820191</td>\n",
       "      <td>None</td>\n",
       "      <td>None</td>\n",
       "      <td>pyiron@jupyter-pyiron-2dpyiron-2d996ovb6h#1</td>\n",
       "      <td>GpawJob</td>\n",
       "      <td>None</td>\n",
       "      <td>None</td>\n",
       "      <td>None</td>\n",
       "    </tr>\n",
       "    <tr>\n",
       "      <th>10</th>\n",
       "      <td>11</td>\n",
       "      <td>finished</td>\n",
       "      <td>None</td>\n",
       "      <td>gpaw_1_0</td>\n",
       "      <td>/gpaw_1_0</td>\n",
       "      <td>None</td>\n",
       "      <td>/home/jovyan/thermo/encut_270/</td>\n",
       "      <td>2020-10-02 17:45:10.442772</td>\n",
       "      <td>None</td>\n",
       "      <td>None</td>\n",
       "      <td>pyiron@jupyter-pyiron-2dpyiron-2d996ovb6h#1</td>\n",
       "      <td>GpawJob</td>\n",
       "      <td>None</td>\n",
       "      <td>None</td>\n",
       "      <td>None</td>\n",
       "    </tr>\n",
       "    <tr>\n",
       "      <th>11</th>\n",
       "      <td>12</td>\n",
       "      <td>finished</td>\n",
       "      <td>None</td>\n",
       "      <td>gpaw_1_0166666666666666</td>\n",
       "      <td>/gpaw_1_0166666666666666</td>\n",
       "      <td>None</td>\n",
       "      <td>/home/jovyan/thermo/encut_270/</td>\n",
       "      <td>2020-10-02 17:47:59.450726</td>\n",
       "      <td>None</td>\n",
       "      <td>None</td>\n",
       "      <td>pyiron@jupyter-pyiron-2dpyiron-2d996ovb6h#1</td>\n",
       "      <td>GpawJob</td>\n",
       "      <td>None</td>\n",
       "      <td>None</td>\n",
       "      <td>None</td>\n",
       "    </tr>\n",
       "    <tr>\n",
       "      <th>12</th>\n",
       "      <td>13</td>\n",
       "      <td>finished</td>\n",
       "      <td>None</td>\n",
       "      <td>gpaw_1_0333333333333334</td>\n",
       "      <td>/gpaw_1_0333333333333334</td>\n",
       "      <td>None</td>\n",
       "      <td>/home/jovyan/thermo/encut_270/</td>\n",
       "      <td>2020-10-02 17:51:07.518608</td>\n",
       "      <td>None</td>\n",
       "      <td>None</td>\n",
       "      <td>pyiron@jupyter-pyiron-2dpyiron-2d996ovb6h#1</td>\n",
       "      <td>GpawJob</td>\n",
       "      <td>None</td>\n",
       "      <td>None</td>\n",
       "      <td>None</td>\n",
       "    </tr>\n",
       "    <tr>\n",
       "      <th>13</th>\n",
       "      <td>14</td>\n",
       "      <td>finished</td>\n",
       "      <td>None</td>\n",
       "      <td>gpaw_1_05</td>\n",
       "      <td>/gpaw_1_05</td>\n",
       "      <td>None</td>\n",
       "      <td>/home/jovyan/thermo/encut_270/</td>\n",
       "      <td>2020-10-02 17:54:45.224784</td>\n",
       "      <td>None</td>\n",
       "      <td>None</td>\n",
       "      <td>pyiron@jupyter-pyiron-2dpyiron-2d996ovb6h#1</td>\n",
       "      <td>GpawJob</td>\n",
       "      <td>None</td>\n",
       "      <td>None</td>\n",
       "      <td>None</td>\n",
       "    </tr>\n",
       "    <tr>\n",
       "      <th>14</th>\n",
       "      <td>15</td>\n",
       "      <td>finished</td>\n",
       "      <td>None</td>\n",
       "      <td>gpaw_0_95</td>\n",
       "      <td>/gpaw_0_95</td>\n",
       "      <td>None</td>\n",
       "      <td>/home/jovyan/thermo/encut_280/</td>\n",
       "      <td>2020-10-02 17:58:11.528057</td>\n",
       "      <td>None</td>\n",
       "      <td>None</td>\n",
       "      <td>pyiron@jupyter-pyiron-2dpyiron-2d996ovb6h#1</td>\n",
       "      <td>GpawJob</td>\n",
       "      <td>None</td>\n",
       "      <td>None</td>\n",
       "      <td>None</td>\n",
       "    </tr>\n",
       "    <tr>\n",
       "      <th>15</th>\n",
       "      <td>16</td>\n",
       "      <td>finished</td>\n",
       "      <td>None</td>\n",
       "      <td>gpaw_0_9666666666666667</td>\n",
       "      <td>/gpaw_0_9666666666666667</td>\n",
       "      <td>None</td>\n",
       "      <td>/home/jovyan/thermo/encut_280/</td>\n",
       "      <td>2020-10-02 18:00:11.919363</td>\n",
       "      <td>None</td>\n",
       "      <td>None</td>\n",
       "      <td>pyiron@jupyter-pyiron-2dpyiron-2d996ovb6h#1</td>\n",
       "      <td>GpawJob</td>\n",
       "      <td>None</td>\n",
       "      <td>None</td>\n",
       "      <td>None</td>\n",
       "    </tr>\n",
       "    <tr>\n",
       "      <th>16</th>\n",
       "      <td>17</td>\n",
       "      <td>finished</td>\n",
       "      <td>None</td>\n",
       "      <td>gpaw_0_9833333333333333</td>\n",
       "      <td>/gpaw_0_9833333333333333</td>\n",
       "      <td>None</td>\n",
       "      <td>/home/jovyan/thermo/encut_280/</td>\n",
       "      <td>2020-10-02 18:02:25.229474</td>\n",
       "      <td>None</td>\n",
       "      <td>None</td>\n",
       "      <td>pyiron@jupyter-pyiron-2dpyiron-2d996ovb6h#1</td>\n",
       "      <td>GpawJob</td>\n",
       "      <td>None</td>\n",
       "      <td>None</td>\n",
       "      <td>None</td>\n",
       "    </tr>\n",
       "    <tr>\n",
       "      <th>17</th>\n",
       "      <td>18</td>\n",
       "      <td>finished</td>\n",
       "      <td>None</td>\n",
       "      <td>gpaw_1_0</td>\n",
       "      <td>/gpaw_1_0</td>\n",
       "      <td>None</td>\n",
       "      <td>/home/jovyan/thermo/encut_280/</td>\n",
       "      <td>2020-10-02 18:05:13.598633</td>\n",
       "      <td>None</td>\n",
       "      <td>None</td>\n",
       "      <td>pyiron@jupyter-pyiron-2dpyiron-2d996ovb6h#1</td>\n",
       "      <td>GpawJob</td>\n",
       "      <td>None</td>\n",
       "      <td>None</td>\n",
       "      <td>None</td>\n",
       "    </tr>\n",
       "    <tr>\n",
       "      <th>18</th>\n",
       "      <td>19</td>\n",
       "      <td>finished</td>\n",
       "      <td>None</td>\n",
       "      <td>gpaw_1_0166666666666666</td>\n",
       "      <td>/gpaw_1_0166666666666666</td>\n",
       "      <td>None</td>\n",
       "      <td>/home/jovyan/thermo/encut_280/</td>\n",
       "      <td>2020-10-02 18:08:06.130672</td>\n",
       "      <td>None</td>\n",
       "      <td>None</td>\n",
       "      <td>pyiron@jupyter-pyiron-2dpyiron-2d996ovb6h#1</td>\n",
       "      <td>GpawJob</td>\n",
       "      <td>None</td>\n",
       "      <td>None</td>\n",
       "      <td>None</td>\n",
       "    </tr>\n",
       "    <tr>\n",
       "      <th>19</th>\n",
       "      <td>20</td>\n",
       "      <td>finished</td>\n",
       "      <td>None</td>\n",
       "      <td>gpaw_1_0333333333333334</td>\n",
       "      <td>/gpaw_1_0333333333333334</td>\n",
       "      <td>None</td>\n",
       "      <td>/home/jovyan/thermo/encut_280/</td>\n",
       "      <td>2020-10-02 18:11:21.717226</td>\n",
       "      <td>None</td>\n",
       "      <td>None</td>\n",
       "      <td>pyiron@jupyter-pyiron-2dpyiron-2d996ovb6h#1</td>\n",
       "      <td>GpawJob</td>\n",
       "      <td>None</td>\n",
       "      <td>None</td>\n",
       "      <td>None</td>\n",
       "    </tr>\n",
       "    <tr>\n",
       "      <th>20</th>\n",
       "      <td>21</td>\n",
       "      <td>finished</td>\n",
       "      <td>None</td>\n",
       "      <td>gpaw_1_05</td>\n",
       "      <td>/gpaw_1_05</td>\n",
       "      <td>None</td>\n",
       "      <td>/home/jovyan/thermo/encut_280/</td>\n",
       "      <td>2020-10-02 18:14:19.003564</td>\n",
       "      <td>None</td>\n",
       "      <td>None</td>\n",
       "      <td>pyiron@jupyter-pyiron-2dpyiron-2d996ovb6h#1</td>\n",
       "      <td>GpawJob</td>\n",
       "      <td>None</td>\n",
       "      <td>None</td>\n",
       "      <td>None</td>\n",
       "    </tr>\n",
       "    <tr>\n",
       "      <th>21</th>\n",
       "      <td>22</td>\n",
       "      <td>finished</td>\n",
       "      <td>None</td>\n",
       "      <td>gpaw_0_95</td>\n",
       "      <td>/gpaw_0_95</td>\n",
       "      <td>None</td>\n",
       "      <td>/home/jovyan/thermo/encut_290/</td>\n",
       "      <td>2020-10-02 18:16:48.228097</td>\n",
       "      <td>None</td>\n",
       "      <td>None</td>\n",
       "      <td>pyiron@jupyter-pyiron-2dpyiron-2d996ovb6h#1</td>\n",
       "      <td>GpawJob</td>\n",
       "      <td>None</td>\n",
       "      <td>None</td>\n",
       "      <td>None</td>\n",
       "    </tr>\n",
       "    <tr>\n",
       "      <th>22</th>\n",
       "      <td>23</td>\n",
       "      <td>finished</td>\n",
       "      <td>None</td>\n",
       "      <td>gpaw_0_9666666666666667</td>\n",
       "      <td>/gpaw_0_9666666666666667</td>\n",
       "      <td>None</td>\n",
       "      <td>/home/jovyan/thermo/encut_290/</td>\n",
       "      <td>2020-10-02 18:19:42.602848</td>\n",
       "      <td>None</td>\n",
       "      <td>None</td>\n",
       "      <td>pyiron@jupyter-pyiron-2dpyiron-2d996ovb6h#1</td>\n",
       "      <td>GpawJob</td>\n",
       "      <td>None</td>\n",
       "      <td>None</td>\n",
       "      <td>None</td>\n",
       "    </tr>\n",
       "    <tr>\n",
       "      <th>23</th>\n",
       "      <td>24</td>\n",
       "      <td>finished</td>\n",
       "      <td>None</td>\n",
       "      <td>gpaw_0_9833333333333333</td>\n",
       "      <td>/gpaw_0_9833333333333333</td>\n",
       "      <td>None</td>\n",
       "      <td>/home/jovyan/thermo/encut_290/</td>\n",
       "      <td>2020-10-02 18:22:33.879253</td>\n",
       "      <td>None</td>\n",
       "      <td>None</td>\n",
       "      <td>pyiron@jupyter-pyiron-2dpyiron-2d996ovb6h#1</td>\n",
       "      <td>GpawJob</td>\n",
       "      <td>None</td>\n",
       "      <td>None</td>\n",
       "      <td>None</td>\n",
       "    </tr>\n",
       "    <tr>\n",
       "      <th>24</th>\n",
       "      <td>25</td>\n",
       "      <td>finished</td>\n",
       "      <td>None</td>\n",
       "      <td>gpaw_1_0</td>\n",
       "      <td>/gpaw_1_0</td>\n",
       "      <td>None</td>\n",
       "      <td>/home/jovyan/thermo/encut_290/</td>\n",
       "      <td>2020-10-02 18:25:12.937586</td>\n",
       "      <td>None</td>\n",
       "      <td>None</td>\n",
       "      <td>pyiron@jupyter-pyiron-2dpyiron-2d996ovb6h#1</td>\n",
       "      <td>GpawJob</td>\n",
       "      <td>None</td>\n",
       "      <td>None</td>\n",
       "      <td>None</td>\n",
       "    </tr>\n",
       "    <tr>\n",
       "      <th>25</th>\n",
       "      <td>26</td>\n",
       "      <td>finished</td>\n",
       "      <td>None</td>\n",
       "      <td>gpaw_1_0166666666666666</td>\n",
       "      <td>/gpaw_1_0166666666666666</td>\n",
       "      <td>None</td>\n",
       "      <td>/home/jovyan/thermo/encut_290/</td>\n",
       "      <td>2020-10-02 18:27:18.445423</td>\n",
       "      <td>None</td>\n",
       "      <td>None</td>\n",
       "      <td>pyiron@jupyter-pyiron-2dpyiron-2d996ovb6h#1</td>\n",
       "      <td>GpawJob</td>\n",
       "      <td>None</td>\n",
       "      <td>None</td>\n",
       "      <td>None</td>\n",
       "    </tr>\n",
       "    <tr>\n",
       "      <th>26</th>\n",
       "      <td>27</td>\n",
       "      <td>finished</td>\n",
       "      <td>None</td>\n",
       "      <td>gpaw_1_0333333333333334</td>\n",
       "      <td>/gpaw_1_0333333333333334</td>\n",
       "      <td>None</td>\n",
       "      <td>/home/jovyan/thermo/encut_290/</td>\n",
       "      <td>2020-10-02 18:29:51.108935</td>\n",
       "      <td>None</td>\n",
       "      <td>None</td>\n",
       "      <td>pyiron@jupyter-pyiron-2dpyiron-2d996ovb6h#1</td>\n",
       "      <td>GpawJob</td>\n",
       "      <td>None</td>\n",
       "      <td>None</td>\n",
       "      <td>None</td>\n",
       "    </tr>\n",
       "    <tr>\n",
       "      <th>27</th>\n",
       "      <td>28</td>\n",
       "      <td>finished</td>\n",
       "      <td>None</td>\n",
       "      <td>gpaw_1_05</td>\n",
       "      <td>/gpaw_1_05</td>\n",
       "      <td>None</td>\n",
       "      <td>/home/jovyan/thermo/encut_290/</td>\n",
       "      <td>2020-10-02 18:33:09.633165</td>\n",
       "      <td>None</td>\n",
       "      <td>None</td>\n",
       "      <td>pyiron@jupyter-pyiron-2dpyiron-2d996ovb6h#1</td>\n",
       "      <td>GpawJob</td>\n",
       "      <td>None</td>\n",
       "      <td>None</td>\n",
       "      <td>None</td>\n",
       "    </tr>\n",
       "    <tr>\n",
       "      <th>28</th>\n",
       "      <td>29</td>\n",
       "      <td>finished</td>\n",
       "      <td>None</td>\n",
       "      <td>gpaw_0_95</td>\n",
       "      <td>/gpaw_0_95</td>\n",
       "      <td>None</td>\n",
       "      <td>/home/jovyan/thermo/encut_300/</td>\n",
       "      <td>2020-10-02 18:35:24.100573</td>\n",
       "      <td>None</td>\n",
       "      <td>None</td>\n",
       "      <td>pyiron@jupyter-pyiron-2dpyiron-2d996ovb6h#1</td>\n",
       "      <td>GpawJob</td>\n",
       "      <td>None</td>\n",
       "      <td>None</td>\n",
       "      <td>None</td>\n",
       "    </tr>\n",
       "    <tr>\n",
       "      <th>29</th>\n",
       "      <td>30</td>\n",
       "      <td>finished</td>\n",
       "      <td>None</td>\n",
       "      <td>gpaw_0_9666666666666667</td>\n",
       "      <td>/gpaw_0_9666666666666667</td>\n",
       "      <td>None</td>\n",
       "      <td>/home/jovyan/thermo/encut_300/</td>\n",
       "      <td>2020-10-02 18:37:51.134146</td>\n",
       "      <td>None</td>\n",
       "      <td>None</td>\n",
       "      <td>pyiron@jupyter-pyiron-2dpyiron-2d996ovb6h#1</td>\n",
       "      <td>GpawJob</td>\n",
       "      <td>None</td>\n",
       "      <td>None</td>\n",
       "      <td>None</td>\n",
       "    </tr>\n",
       "    <tr>\n",
       "      <th>30</th>\n",
       "      <td>31</td>\n",
       "      <td>finished</td>\n",
       "      <td>None</td>\n",
       "      <td>gpaw_0_9833333333333333</td>\n",
       "      <td>/gpaw_0_9833333333333333</td>\n",
       "      <td>None</td>\n",
       "      <td>/home/jovyan/thermo/encut_300/</td>\n",
       "      <td>2020-10-02 18:40:15.407176</td>\n",
       "      <td>None</td>\n",
       "      <td>None</td>\n",
       "      <td>pyiron@jupyter-pyiron-2dpyiron-2d996ovb6h#1</td>\n",
       "      <td>GpawJob</td>\n",
       "      <td>None</td>\n",
       "      <td>None</td>\n",
       "      <td>None</td>\n",
       "    </tr>\n",
       "    <tr>\n",
       "      <th>31</th>\n",
       "      <td>32</td>\n",
       "      <td>finished</td>\n",
       "      <td>None</td>\n",
       "      <td>gpaw_1_0</td>\n",
       "      <td>/gpaw_1_0</td>\n",
       "      <td>None</td>\n",
       "      <td>/home/jovyan/thermo/encut_300/</td>\n",
       "      <td>2020-10-02 18:42:27.007123</td>\n",
       "      <td>None</td>\n",
       "      <td>None</td>\n",
       "      <td>pyiron@jupyter-pyiron-2dpyiron-2d996ovb6h#1</td>\n",
       "      <td>GpawJob</td>\n",
       "      <td>None</td>\n",
       "      <td>None</td>\n",
       "      <td>None</td>\n",
       "    </tr>\n",
       "    <tr>\n",
       "      <th>32</th>\n",
       "      <td>33</td>\n",
       "      <td>finished</td>\n",
       "      <td>None</td>\n",
       "      <td>gpaw_1_0166666666666666</td>\n",
       "      <td>/gpaw_1_0166666666666666</td>\n",
       "      <td>None</td>\n",
       "      <td>/home/jovyan/thermo/encut_300/</td>\n",
       "      <td>2020-10-02 18:45:20.422390</td>\n",
       "      <td>None</td>\n",
       "      <td>None</td>\n",
       "      <td>pyiron@jupyter-pyiron-2dpyiron-2d996ovb6h#1</td>\n",
       "      <td>GpawJob</td>\n",
       "      <td>None</td>\n",
       "      <td>None</td>\n",
       "      <td>None</td>\n",
       "    </tr>\n",
       "    <tr>\n",
       "      <th>33</th>\n",
       "      <td>34</td>\n",
       "      <td>finished</td>\n",
       "      <td>None</td>\n",
       "      <td>gpaw_1_0333333333333334</td>\n",
       "      <td>/gpaw_1_0333333333333334</td>\n",
       "      <td>None</td>\n",
       "      <td>/home/jovyan/thermo/encut_300/</td>\n",
       "      <td>2020-10-02 18:47:26.819490</td>\n",
       "      <td>None</td>\n",
       "      <td>None</td>\n",
       "      <td>pyiron@jupyter-pyiron-2dpyiron-2d996ovb6h#1</td>\n",
       "      <td>GpawJob</td>\n",
       "      <td>None</td>\n",
       "      <td>None</td>\n",
       "      <td>None</td>\n",
       "    </tr>\n",
       "    <tr>\n",
       "      <th>34</th>\n",
       "      <td>35</td>\n",
       "      <td>finished</td>\n",
       "      <td>None</td>\n",
       "      <td>gpaw_1_05</td>\n",
       "      <td>/gpaw_1_05</td>\n",
       "      <td>None</td>\n",
       "      <td>/home/jovyan/thermo/encut_300/</td>\n",
       "      <td>2020-10-02 18:49:24.101232</td>\n",
       "      <td>None</td>\n",
       "      <td>None</td>\n",
       "      <td>pyiron@jupyter-pyiron-2dpyiron-2d996ovb6h#1</td>\n",
       "      <td>GpawJob</td>\n",
       "      <td>None</td>\n",
       "      <td>None</td>\n",
       "      <td>None</td>\n",
       "    </tr>\n",
       "    <tr>\n",
       "      <th>35</th>\n",
       "      <td>36</td>\n",
       "      <td>finished</td>\n",
       "      <td>None</td>\n",
       "      <td>gpaw_0_95</td>\n",
       "      <td>/gpaw_0_95</td>\n",
       "      <td>None</td>\n",
       "      <td>/home/jovyan/thermo/encut_310/</td>\n",
       "      <td>2020-10-02 18:51:11.902579</td>\n",
       "      <td>None</td>\n",
       "      <td>None</td>\n",
       "      <td>pyiron@jupyter-pyiron-2dpyiron-2d996ovb6h#1</td>\n",
       "      <td>GpawJob</td>\n",
       "      <td>None</td>\n",
       "      <td>None</td>\n",
       "      <td>None</td>\n",
       "    </tr>\n",
       "    <tr>\n",
       "      <th>36</th>\n",
       "      <td>37</td>\n",
       "      <td>finished</td>\n",
       "      <td>None</td>\n",
       "      <td>gpaw_0_9666666666666667</td>\n",
       "      <td>/gpaw_0_9666666666666667</td>\n",
       "      <td>None</td>\n",
       "      <td>/home/jovyan/thermo/encut_310/</td>\n",
       "      <td>2020-10-02 18:53:53.696423</td>\n",
       "      <td>None</td>\n",
       "      <td>None</td>\n",
       "      <td>pyiron@jupyter-pyiron-2dpyiron-2d996ovb6h#1</td>\n",
       "      <td>GpawJob</td>\n",
       "      <td>None</td>\n",
       "      <td>None</td>\n",
       "      <td>None</td>\n",
       "    </tr>\n",
       "    <tr>\n",
       "      <th>37</th>\n",
       "      <td>38</td>\n",
       "      <td>finished</td>\n",
       "      <td>None</td>\n",
       "      <td>gpaw_0_9833333333333333</td>\n",
       "      <td>/gpaw_0_9833333333333333</td>\n",
       "      <td>None</td>\n",
       "      <td>/home/jovyan/thermo/encut_310/</td>\n",
       "      <td>2020-10-02 18:55:31.120613</td>\n",
       "      <td>None</td>\n",
       "      <td>None</td>\n",
       "      <td>pyiron@jupyter-pyiron-2dpyiron-2d996ovb6h#1</td>\n",
       "      <td>GpawJob</td>\n",
       "      <td>None</td>\n",
       "      <td>None</td>\n",
       "      <td>None</td>\n",
       "    </tr>\n",
       "    <tr>\n",
       "      <th>38</th>\n",
       "      <td>39</td>\n",
       "      <td>finished</td>\n",
       "      <td>None</td>\n",
       "      <td>gpaw_1_0</td>\n",
       "      <td>/gpaw_1_0</td>\n",
       "      <td>None</td>\n",
       "      <td>/home/jovyan/thermo/encut_310/</td>\n",
       "      <td>2020-10-02 18:57:12.122217</td>\n",
       "      <td>None</td>\n",
       "      <td>None</td>\n",
       "      <td>pyiron@jupyter-pyiron-2dpyiron-2d996ovb6h#1</td>\n",
       "      <td>GpawJob</td>\n",
       "      <td>None</td>\n",
       "      <td>None</td>\n",
       "      <td>None</td>\n",
       "    </tr>\n",
       "    <tr>\n",
       "      <th>39</th>\n",
       "      <td>40</td>\n",
       "      <td>finished</td>\n",
       "      <td>None</td>\n",
       "      <td>gpaw_1_0166666666666666</td>\n",
       "      <td>/gpaw_1_0166666666666666</td>\n",
       "      <td>None</td>\n",
       "      <td>/home/jovyan/thermo/encut_310/</td>\n",
       "      <td>2020-10-02 18:58:42.202686</td>\n",
       "      <td>None</td>\n",
       "      <td>None</td>\n",
       "      <td>pyiron@jupyter-pyiron-2dpyiron-2d996ovb6h#1</td>\n",
       "      <td>GpawJob</td>\n",
       "      <td>None</td>\n",
       "      <td>None</td>\n",
       "      <td>None</td>\n",
       "    </tr>\n",
       "    <tr>\n",
       "      <th>40</th>\n",
       "      <td>41</td>\n",
       "      <td>finished</td>\n",
       "      <td>None</td>\n",
       "      <td>gpaw_1_0333333333333334</td>\n",
       "      <td>/gpaw_1_0333333333333334</td>\n",
       "      <td>None</td>\n",
       "      <td>/home/jovyan/thermo/encut_310/</td>\n",
       "      <td>2020-10-02 19:00:25.512077</td>\n",
       "      <td>None</td>\n",
       "      <td>None</td>\n",
       "      <td>pyiron@jupyter-pyiron-2dpyiron-2d996ovb6h#1</td>\n",
       "      <td>GpawJob</td>\n",
       "      <td>None</td>\n",
       "      <td>None</td>\n",
       "      <td>None</td>\n",
       "    </tr>\n",
       "    <tr>\n",
       "      <th>41</th>\n",
       "      <td>42</td>\n",
       "      <td>finished</td>\n",
       "      <td>None</td>\n",
       "      <td>gpaw_1_05</td>\n",
       "      <td>/gpaw_1_05</td>\n",
       "      <td>None</td>\n",
       "      <td>/home/jovyan/thermo/encut_310/</td>\n",
       "      <td>2020-10-02 19:02:08.222775</td>\n",
       "      <td>None</td>\n",
       "      <td>None</td>\n",
       "      <td>pyiron@jupyter-pyiron-2dpyiron-2d996ovb6h#1</td>\n",
       "      <td>GpawJob</td>\n",
       "      <td>None</td>\n",
       "      <td>None</td>\n",
       "      <td>None</td>\n",
       "    </tr>\n",
       "    <tr>\n",
       "      <th>42</th>\n",
       "      <td>43</td>\n",
       "      <td>finished</td>\n",
       "      <td>None</td>\n",
       "      <td>gpaw_0_95</td>\n",
       "      <td>/gpaw_0_95</td>\n",
       "      <td>None</td>\n",
       "      <td>/home/jovyan/thermo/encut_320/</td>\n",
       "      <td>2020-10-02 19:03:42.105391</td>\n",
       "      <td>None</td>\n",
       "      <td>None</td>\n",
       "      <td>pyiron@jupyter-pyiron-2dpyiron-2d996ovb6h#1</td>\n",
       "      <td>GpawJob</td>\n",
       "      <td>None</td>\n",
       "      <td>None</td>\n",
       "      <td>None</td>\n",
       "    </tr>\n",
       "    <tr>\n",
       "      <th>43</th>\n",
       "      <td>44</td>\n",
       "      <td>finished</td>\n",
       "      <td>None</td>\n",
       "      <td>gpaw_0_9666666666666667</td>\n",
       "      <td>/gpaw_0_9666666666666667</td>\n",
       "      <td>None</td>\n",
       "      <td>/home/jovyan/thermo/encut_320/</td>\n",
       "      <td>2020-10-02 19:05:35.407201</td>\n",
       "      <td>None</td>\n",
       "      <td>None</td>\n",
       "      <td>pyiron@jupyter-pyiron-2dpyiron-2d996ovb6h#1</td>\n",
       "      <td>GpawJob</td>\n",
       "      <td>None</td>\n",
       "      <td>None</td>\n",
       "      <td>None</td>\n",
       "    </tr>\n",
       "    <tr>\n",
       "      <th>44</th>\n",
       "      <td>45</td>\n",
       "      <td>finished</td>\n",
       "      <td>None</td>\n",
       "      <td>gpaw_0_9833333333333333</td>\n",
       "      <td>/gpaw_0_9833333333333333</td>\n",
       "      <td>None</td>\n",
       "      <td>/home/jovyan/thermo/encut_320/</td>\n",
       "      <td>2020-10-02 19:07:21.099215</td>\n",
       "      <td>None</td>\n",
       "      <td>None</td>\n",
       "      <td>pyiron@jupyter-pyiron-2dpyiron-2d996ovb6h#1</td>\n",
       "      <td>GpawJob</td>\n",
       "      <td>None</td>\n",
       "      <td>None</td>\n",
       "      <td>None</td>\n",
       "    </tr>\n",
       "    <tr>\n",
       "      <th>45</th>\n",
       "      <td>46</td>\n",
       "      <td>finished</td>\n",
       "      <td>None</td>\n",
       "      <td>gpaw_1_0</td>\n",
       "      <td>/gpaw_1_0</td>\n",
       "      <td>None</td>\n",
       "      <td>/home/jovyan/thermo/encut_320/</td>\n",
       "      <td>2020-10-02 19:08:51.322535</td>\n",
       "      <td>None</td>\n",
       "      <td>None</td>\n",
       "      <td>pyiron@jupyter-pyiron-2dpyiron-2d996ovb6h#1</td>\n",
       "      <td>GpawJob</td>\n",
       "      <td>None</td>\n",
       "      <td>None</td>\n",
       "      <td>None</td>\n",
       "    </tr>\n",
       "    <tr>\n",
       "      <th>46</th>\n",
       "      <td>47</td>\n",
       "      <td>finished</td>\n",
       "      <td>None</td>\n",
       "      <td>gpaw_1_0166666666666666</td>\n",
       "      <td>/gpaw_1_0166666666666666</td>\n",
       "      <td>None</td>\n",
       "      <td>/home/jovyan/thermo/encut_320/</td>\n",
       "      <td>2020-10-02 19:10:14.501550</td>\n",
       "      <td>None</td>\n",
       "      <td>None</td>\n",
       "      <td>pyiron@jupyter-pyiron-2dpyiron-2d996ovb6h#1</td>\n",
       "      <td>GpawJob</td>\n",
       "      <td>None</td>\n",
       "      <td>None</td>\n",
       "      <td>None</td>\n",
       "    </tr>\n",
       "    <tr>\n",
       "      <th>47</th>\n",
       "      <td>48</td>\n",
       "      <td>finished</td>\n",
       "      <td>None</td>\n",
       "      <td>gpaw_1_0333333333333334</td>\n",
       "      <td>/gpaw_1_0333333333333334</td>\n",
       "      <td>None</td>\n",
       "      <td>/home/jovyan/thermo/encut_320/</td>\n",
       "      <td>2020-10-02 19:11:57.005028</td>\n",
       "      <td>None</td>\n",
       "      <td>None</td>\n",
       "      <td>pyiron@jupyter-pyiron-2dpyiron-2d996ovb6h#1</td>\n",
       "      <td>GpawJob</td>\n",
       "      <td>None</td>\n",
       "      <td>None</td>\n",
       "      <td>None</td>\n",
       "    </tr>\n",
       "    <tr>\n",
       "      <th>48</th>\n",
       "      <td>49</td>\n",
       "      <td>finished</td>\n",
       "      <td>None</td>\n",
       "      <td>gpaw_1_05</td>\n",
       "      <td>/gpaw_1_05</td>\n",
       "      <td>None</td>\n",
       "      <td>/home/jovyan/thermo/encut_320/</td>\n",
       "      <td>2020-10-02 19:13:34.919295</td>\n",
       "      <td>None</td>\n",
       "      <td>None</td>\n",
       "      <td>pyiron@jupyter-pyiron-2dpyiron-2d996ovb6h#1</td>\n",
       "      <td>GpawJob</td>\n",
       "      <td>None</td>\n",
       "      <td>None</td>\n",
       "      <td>None</td>\n",
       "    </tr>\n",
       "  </tbody>\n",
       "</table>\n",
       "</div>"
      ],
      "text/plain": [
       "    id    status chemicalformula                      job  \\\n",
       "0    1  finished            None                gpaw_0_95   \n",
       "1    2  finished            None  gpaw_0_9666666666666667   \n",
       "2    3  finished            None  gpaw_0_9833333333333333   \n",
       "3    4  finished            None                 gpaw_1_0   \n",
       "4    5  finished            None  gpaw_1_0166666666666666   \n",
       "5    6  finished            None  gpaw_1_0333333333333334   \n",
       "6    7  finished            None                gpaw_1_05   \n",
       "7    8  finished            None                gpaw_0_95   \n",
       "8    9  finished            None  gpaw_0_9666666666666667   \n",
       "9   10  finished            None  gpaw_0_9833333333333333   \n",
       "10  11  finished            None                 gpaw_1_0   \n",
       "11  12  finished            None  gpaw_1_0166666666666666   \n",
       "12  13  finished            None  gpaw_1_0333333333333334   \n",
       "13  14  finished            None                gpaw_1_05   \n",
       "14  15  finished            None                gpaw_0_95   \n",
       "15  16  finished            None  gpaw_0_9666666666666667   \n",
       "16  17  finished            None  gpaw_0_9833333333333333   \n",
       "17  18  finished            None                 gpaw_1_0   \n",
       "18  19  finished            None  gpaw_1_0166666666666666   \n",
       "19  20  finished            None  gpaw_1_0333333333333334   \n",
       "20  21  finished            None                gpaw_1_05   \n",
       "21  22  finished            None                gpaw_0_95   \n",
       "22  23  finished            None  gpaw_0_9666666666666667   \n",
       "23  24  finished            None  gpaw_0_9833333333333333   \n",
       "24  25  finished            None                 gpaw_1_0   \n",
       "25  26  finished            None  gpaw_1_0166666666666666   \n",
       "26  27  finished            None  gpaw_1_0333333333333334   \n",
       "27  28  finished            None                gpaw_1_05   \n",
       "28  29  finished            None                gpaw_0_95   \n",
       "29  30  finished            None  gpaw_0_9666666666666667   \n",
       "30  31  finished            None  gpaw_0_9833333333333333   \n",
       "31  32  finished            None                 gpaw_1_0   \n",
       "32  33  finished            None  gpaw_1_0166666666666666   \n",
       "33  34  finished            None  gpaw_1_0333333333333334   \n",
       "34  35  finished            None                gpaw_1_05   \n",
       "35  36  finished            None                gpaw_0_95   \n",
       "36  37  finished            None  gpaw_0_9666666666666667   \n",
       "37  38  finished            None  gpaw_0_9833333333333333   \n",
       "38  39  finished            None                 gpaw_1_0   \n",
       "39  40  finished            None  gpaw_1_0166666666666666   \n",
       "40  41  finished            None  gpaw_1_0333333333333334   \n",
       "41  42  finished            None                gpaw_1_05   \n",
       "42  43  finished            None                gpaw_0_95   \n",
       "43  44  finished            None  gpaw_0_9666666666666667   \n",
       "44  45  finished            None  gpaw_0_9833333333333333   \n",
       "45  46  finished            None                 gpaw_1_0   \n",
       "46  47  finished            None  gpaw_1_0166666666666666   \n",
       "47  48  finished            None  gpaw_1_0333333333333334   \n",
       "48  49  finished            None                gpaw_1_05   \n",
       "\n",
       "                      subjob projectpath                         project  \\\n",
       "0                 /gpaw_0_95        None            /home/jovyan/thermo/   \n",
       "1   /gpaw_0_9666666666666667        None            /home/jovyan/thermo/   \n",
       "2   /gpaw_0_9833333333333333        None            /home/jovyan/thermo/   \n",
       "3                  /gpaw_1_0        None            /home/jovyan/thermo/   \n",
       "4   /gpaw_1_0166666666666666        None            /home/jovyan/thermo/   \n",
       "5   /gpaw_1_0333333333333334        None            /home/jovyan/thermo/   \n",
       "6                 /gpaw_1_05        None            /home/jovyan/thermo/   \n",
       "7                 /gpaw_0_95        None  /home/jovyan/thermo/encut_270/   \n",
       "8   /gpaw_0_9666666666666667        None  /home/jovyan/thermo/encut_270/   \n",
       "9   /gpaw_0_9833333333333333        None  /home/jovyan/thermo/encut_270/   \n",
       "10                 /gpaw_1_0        None  /home/jovyan/thermo/encut_270/   \n",
       "11  /gpaw_1_0166666666666666        None  /home/jovyan/thermo/encut_270/   \n",
       "12  /gpaw_1_0333333333333334        None  /home/jovyan/thermo/encut_270/   \n",
       "13                /gpaw_1_05        None  /home/jovyan/thermo/encut_270/   \n",
       "14                /gpaw_0_95        None  /home/jovyan/thermo/encut_280/   \n",
       "15  /gpaw_0_9666666666666667        None  /home/jovyan/thermo/encut_280/   \n",
       "16  /gpaw_0_9833333333333333        None  /home/jovyan/thermo/encut_280/   \n",
       "17                 /gpaw_1_0        None  /home/jovyan/thermo/encut_280/   \n",
       "18  /gpaw_1_0166666666666666        None  /home/jovyan/thermo/encut_280/   \n",
       "19  /gpaw_1_0333333333333334        None  /home/jovyan/thermo/encut_280/   \n",
       "20                /gpaw_1_05        None  /home/jovyan/thermo/encut_280/   \n",
       "21                /gpaw_0_95        None  /home/jovyan/thermo/encut_290/   \n",
       "22  /gpaw_0_9666666666666667        None  /home/jovyan/thermo/encut_290/   \n",
       "23  /gpaw_0_9833333333333333        None  /home/jovyan/thermo/encut_290/   \n",
       "24                 /gpaw_1_0        None  /home/jovyan/thermo/encut_290/   \n",
       "25  /gpaw_1_0166666666666666        None  /home/jovyan/thermo/encut_290/   \n",
       "26  /gpaw_1_0333333333333334        None  /home/jovyan/thermo/encut_290/   \n",
       "27                /gpaw_1_05        None  /home/jovyan/thermo/encut_290/   \n",
       "28                /gpaw_0_95        None  /home/jovyan/thermo/encut_300/   \n",
       "29  /gpaw_0_9666666666666667        None  /home/jovyan/thermo/encut_300/   \n",
       "30  /gpaw_0_9833333333333333        None  /home/jovyan/thermo/encut_300/   \n",
       "31                 /gpaw_1_0        None  /home/jovyan/thermo/encut_300/   \n",
       "32  /gpaw_1_0166666666666666        None  /home/jovyan/thermo/encut_300/   \n",
       "33  /gpaw_1_0333333333333334        None  /home/jovyan/thermo/encut_300/   \n",
       "34                /gpaw_1_05        None  /home/jovyan/thermo/encut_300/   \n",
       "35                /gpaw_0_95        None  /home/jovyan/thermo/encut_310/   \n",
       "36  /gpaw_0_9666666666666667        None  /home/jovyan/thermo/encut_310/   \n",
       "37  /gpaw_0_9833333333333333        None  /home/jovyan/thermo/encut_310/   \n",
       "38                 /gpaw_1_0        None  /home/jovyan/thermo/encut_310/   \n",
       "39  /gpaw_1_0166666666666666        None  /home/jovyan/thermo/encut_310/   \n",
       "40  /gpaw_1_0333333333333334        None  /home/jovyan/thermo/encut_310/   \n",
       "41                /gpaw_1_05        None  /home/jovyan/thermo/encut_310/   \n",
       "42                /gpaw_0_95        None  /home/jovyan/thermo/encut_320/   \n",
       "43  /gpaw_0_9666666666666667        None  /home/jovyan/thermo/encut_320/   \n",
       "44  /gpaw_0_9833333333333333        None  /home/jovyan/thermo/encut_320/   \n",
       "45                 /gpaw_1_0        None  /home/jovyan/thermo/encut_320/   \n",
       "46  /gpaw_1_0166666666666666        None  /home/jovyan/thermo/encut_320/   \n",
       "47  /gpaw_1_0333333333333334        None  /home/jovyan/thermo/encut_320/   \n",
       "48                /gpaw_1_05        None  /home/jovyan/thermo/encut_320/   \n",
       "\n",
       "                    timestart timestop totalcputime  \\\n",
       "0  2020-10-02 17:24:24.200176     None         None   \n",
       "1  2020-10-02 17:26:45.417210     None         None   \n",
       "2  2020-10-02 17:28:37.112334     None         None   \n",
       "3  2020-10-02 17:30:26.714705     None         None   \n",
       "4  2020-10-02 17:31:58.800251     None         None   \n",
       "5  2020-10-02 17:34:47.304029     None         None   \n",
       "6  2020-10-02 17:36:23.322563     None         None   \n",
       "7  2020-10-02 17:38:00.805999     None         None   \n",
       "8  2020-10-02 17:40:27.023982     None         None   \n",
       "9  2020-10-02 17:42:55.820191     None         None   \n",
       "10 2020-10-02 17:45:10.442772     None         None   \n",
       "11 2020-10-02 17:47:59.450726     None         None   \n",
       "12 2020-10-02 17:51:07.518608     None         None   \n",
       "13 2020-10-02 17:54:45.224784     None         None   \n",
       "14 2020-10-02 17:58:11.528057     None         None   \n",
       "15 2020-10-02 18:00:11.919363     None         None   \n",
       "16 2020-10-02 18:02:25.229474     None         None   \n",
       "17 2020-10-02 18:05:13.598633     None         None   \n",
       "18 2020-10-02 18:08:06.130672     None         None   \n",
       "19 2020-10-02 18:11:21.717226     None         None   \n",
       "20 2020-10-02 18:14:19.003564     None         None   \n",
       "21 2020-10-02 18:16:48.228097     None         None   \n",
       "22 2020-10-02 18:19:42.602848     None         None   \n",
       "23 2020-10-02 18:22:33.879253     None         None   \n",
       "24 2020-10-02 18:25:12.937586     None         None   \n",
       "25 2020-10-02 18:27:18.445423     None         None   \n",
       "26 2020-10-02 18:29:51.108935     None         None   \n",
       "27 2020-10-02 18:33:09.633165     None         None   \n",
       "28 2020-10-02 18:35:24.100573     None         None   \n",
       "29 2020-10-02 18:37:51.134146     None         None   \n",
       "30 2020-10-02 18:40:15.407176     None         None   \n",
       "31 2020-10-02 18:42:27.007123     None         None   \n",
       "32 2020-10-02 18:45:20.422390     None         None   \n",
       "33 2020-10-02 18:47:26.819490     None         None   \n",
       "34 2020-10-02 18:49:24.101232     None         None   \n",
       "35 2020-10-02 18:51:11.902579     None         None   \n",
       "36 2020-10-02 18:53:53.696423     None         None   \n",
       "37 2020-10-02 18:55:31.120613     None         None   \n",
       "38 2020-10-02 18:57:12.122217     None         None   \n",
       "39 2020-10-02 18:58:42.202686     None         None   \n",
       "40 2020-10-02 19:00:25.512077     None         None   \n",
       "41 2020-10-02 19:02:08.222775     None         None   \n",
       "42 2020-10-02 19:03:42.105391     None         None   \n",
       "43 2020-10-02 19:05:35.407201     None         None   \n",
       "44 2020-10-02 19:07:21.099215     None         None   \n",
       "45 2020-10-02 19:08:51.322535     None         None   \n",
       "46 2020-10-02 19:10:14.501550     None         None   \n",
       "47 2020-10-02 19:11:57.005028     None         None   \n",
       "48 2020-10-02 19:13:34.919295     None         None   \n",
       "\n",
       "                                       computer hamilton hamversion parentid  \\\n",
       "0   pyiron@jupyter-pyiron-2dpyiron-2d996ovb6h#1  GpawJob       None     None   \n",
       "1   pyiron@jupyter-pyiron-2dpyiron-2d996ovb6h#1  GpawJob       None     None   \n",
       "2   pyiron@jupyter-pyiron-2dpyiron-2d996ovb6h#1  GpawJob       None     None   \n",
       "3   pyiron@jupyter-pyiron-2dpyiron-2d996ovb6h#1  GpawJob       None     None   \n",
       "4   pyiron@jupyter-pyiron-2dpyiron-2d996ovb6h#1  GpawJob       None     None   \n",
       "5   pyiron@jupyter-pyiron-2dpyiron-2d996ovb6h#1  GpawJob       None     None   \n",
       "6   pyiron@jupyter-pyiron-2dpyiron-2d996ovb6h#1  GpawJob       None     None   \n",
       "7   pyiron@jupyter-pyiron-2dpyiron-2d996ovb6h#1  GpawJob       None     None   \n",
       "8   pyiron@jupyter-pyiron-2dpyiron-2d996ovb6h#1  GpawJob       None     None   \n",
       "9   pyiron@jupyter-pyiron-2dpyiron-2d996ovb6h#1  GpawJob       None     None   \n",
       "10  pyiron@jupyter-pyiron-2dpyiron-2d996ovb6h#1  GpawJob       None     None   \n",
       "11  pyiron@jupyter-pyiron-2dpyiron-2d996ovb6h#1  GpawJob       None     None   \n",
       "12  pyiron@jupyter-pyiron-2dpyiron-2d996ovb6h#1  GpawJob       None     None   \n",
       "13  pyiron@jupyter-pyiron-2dpyiron-2d996ovb6h#1  GpawJob       None     None   \n",
       "14  pyiron@jupyter-pyiron-2dpyiron-2d996ovb6h#1  GpawJob       None     None   \n",
       "15  pyiron@jupyter-pyiron-2dpyiron-2d996ovb6h#1  GpawJob       None     None   \n",
       "16  pyiron@jupyter-pyiron-2dpyiron-2d996ovb6h#1  GpawJob       None     None   \n",
       "17  pyiron@jupyter-pyiron-2dpyiron-2d996ovb6h#1  GpawJob       None     None   \n",
       "18  pyiron@jupyter-pyiron-2dpyiron-2d996ovb6h#1  GpawJob       None     None   \n",
       "19  pyiron@jupyter-pyiron-2dpyiron-2d996ovb6h#1  GpawJob       None     None   \n",
       "20  pyiron@jupyter-pyiron-2dpyiron-2d996ovb6h#1  GpawJob       None     None   \n",
       "21  pyiron@jupyter-pyiron-2dpyiron-2d996ovb6h#1  GpawJob       None     None   \n",
       "22  pyiron@jupyter-pyiron-2dpyiron-2d996ovb6h#1  GpawJob       None     None   \n",
       "23  pyiron@jupyter-pyiron-2dpyiron-2d996ovb6h#1  GpawJob       None     None   \n",
       "24  pyiron@jupyter-pyiron-2dpyiron-2d996ovb6h#1  GpawJob       None     None   \n",
       "25  pyiron@jupyter-pyiron-2dpyiron-2d996ovb6h#1  GpawJob       None     None   \n",
       "26  pyiron@jupyter-pyiron-2dpyiron-2d996ovb6h#1  GpawJob       None     None   \n",
       "27  pyiron@jupyter-pyiron-2dpyiron-2d996ovb6h#1  GpawJob       None     None   \n",
       "28  pyiron@jupyter-pyiron-2dpyiron-2d996ovb6h#1  GpawJob       None     None   \n",
       "29  pyiron@jupyter-pyiron-2dpyiron-2d996ovb6h#1  GpawJob       None     None   \n",
       "30  pyiron@jupyter-pyiron-2dpyiron-2d996ovb6h#1  GpawJob       None     None   \n",
       "31  pyiron@jupyter-pyiron-2dpyiron-2d996ovb6h#1  GpawJob       None     None   \n",
       "32  pyiron@jupyter-pyiron-2dpyiron-2d996ovb6h#1  GpawJob       None     None   \n",
       "33  pyiron@jupyter-pyiron-2dpyiron-2d996ovb6h#1  GpawJob       None     None   \n",
       "34  pyiron@jupyter-pyiron-2dpyiron-2d996ovb6h#1  GpawJob       None     None   \n",
       "35  pyiron@jupyter-pyiron-2dpyiron-2d996ovb6h#1  GpawJob       None     None   \n",
       "36  pyiron@jupyter-pyiron-2dpyiron-2d996ovb6h#1  GpawJob       None     None   \n",
       "37  pyiron@jupyter-pyiron-2dpyiron-2d996ovb6h#1  GpawJob       None     None   \n",
       "38  pyiron@jupyter-pyiron-2dpyiron-2d996ovb6h#1  GpawJob       None     None   \n",
       "39  pyiron@jupyter-pyiron-2dpyiron-2d996ovb6h#1  GpawJob       None     None   \n",
       "40  pyiron@jupyter-pyiron-2dpyiron-2d996ovb6h#1  GpawJob       None     None   \n",
       "41  pyiron@jupyter-pyiron-2dpyiron-2d996ovb6h#1  GpawJob       None     None   \n",
       "42  pyiron@jupyter-pyiron-2dpyiron-2d996ovb6h#1  GpawJob       None     None   \n",
       "43  pyiron@jupyter-pyiron-2dpyiron-2d996ovb6h#1  GpawJob       None     None   \n",
       "44  pyiron@jupyter-pyiron-2dpyiron-2d996ovb6h#1  GpawJob       None     None   \n",
       "45  pyiron@jupyter-pyiron-2dpyiron-2d996ovb6h#1  GpawJob       None     None   \n",
       "46  pyiron@jupyter-pyiron-2dpyiron-2d996ovb6h#1  GpawJob       None     None   \n",
       "47  pyiron@jupyter-pyiron-2dpyiron-2d996ovb6h#1  GpawJob       None     None   \n",
       "48  pyiron@jupyter-pyiron-2dpyiron-2d996ovb6h#1  GpawJob       None     None   \n",
       "\n",
       "   masterid  \n",
       "0      None  \n",
       "1      None  \n",
       "2      None  \n",
       "3      None  \n",
       "4      None  \n",
       "5      None  \n",
       "6      None  \n",
       "7      None  \n",
       "8      None  \n",
       "9      None  \n",
       "10     None  \n",
       "11     None  \n",
       "12     None  \n",
       "13     None  \n",
       "14     None  \n",
       "15     None  \n",
       "16     None  \n",
       "17     None  \n",
       "18     None  \n",
       "19     None  \n",
       "20     None  \n",
       "21     None  \n",
       "22     None  \n",
       "23     None  \n",
       "24     None  \n",
       "25     None  \n",
       "26     None  \n",
       "27     None  \n",
       "28     None  \n",
       "29     None  \n",
       "30     None  \n",
       "31     None  \n",
       "32     None  \n",
       "33     None  \n",
       "34     None  \n",
       "35     None  \n",
       "36     None  \n",
       "37     None  \n",
       "38     None  \n",
       "39     None  \n",
       "40     None  \n",
       "41     None  \n",
       "42     None  \n",
       "43     None  \n",
       "44     None  \n",
       "45     None  \n",
       "46     None  \n",
       "47     None  \n",
       "48     None  "
      ]
     },
     "execution_count": 20,
     "metadata": {},
     "output_type": "execute_result"
    }
   ],
   "source": [
    "pr.job_table()"
   ]
  },
  {
   "cell_type": "code",
   "execution_count": 21,
   "metadata": {
    "ExecuteTime": {
     "end_time": "2019-09-04T12:59:39.529725Z",
     "start_time": "2019-09-04T12:58:38.466857Z"
    }
   },
   "outputs": [
    {
     "name": "stdout",
     "output_type": "stream",
     "text": [
      "The job murn was saved and received the ID: 50\n"
     ]
    },
    {
     "name": "stderr",
     "output_type": "stream",
     "text": [
      "/srv/conda/envs/notebook/lib/python3.7/site-packages/ase/cell.py:17: FutureWarning: Cell object will no longer have pbc\n",
      "  warnings.warn(deprecation_msg, FutureWarning)\n"
     ]
    },
    {
     "name": "stdout",
     "output_type": "stream",
     "text": [
      "The job strain_0_95 was saved and received the ID: 51\n",
      "The job strain_0_9666667 was saved and received the ID: 52\n",
      "The job strain_0_9833333 was saved and received the ID: 53\n",
      "The job strain_1_0 was saved and received the ID: 54\n",
      "The job strain_1_0166667 was saved and received the ID: 55\n",
      "The job strain_1_0333333 was saved and received the ID: 56\n",
      "The job strain_1_05 was saved and received the ID: 57\n",
      "job_id:  51 finished\n",
      "job_id:  52 finished\n",
      "job_id:  53 finished\n",
      "job_id:  54 finished\n",
      "job_id:  55 finished\n",
      "job_id:  56 finished\n",
      "job_id:  57 finished\n"
     ]
    }
   ],
   "source": [
    "murn.run()"
   ]
  },
  {
   "cell_type": "markdown",
   "metadata": {},
   "source": [
    "Afterwards we can use the build in capabilites to plot the resulting energy volume curve and fit different equations of state to the calculated energy volume pairs."
   ]
  },
  {
   "cell_type": "code",
   "execution_count": 22,
   "metadata": {
    "ExecuteTime": {
     "end_time": "2019-09-04T12:59:39.624624Z",
     "start_time": "2019-09-04T12:59:39.574891Z"
    }
   },
   "outputs": [
    {
     "data": {
      "text/html": [
       "<div>\n",
       "<style scoped>\n",
       "    .dataframe tbody tr th:only-of-type {\n",
       "        vertical-align: middle;\n",
       "    }\n",
       "\n",
       "    .dataframe tbody tr th {\n",
       "        vertical-align: top;\n",
       "    }\n",
       "\n",
       "    .dataframe thead th {\n",
       "        text-align: right;\n",
       "    }\n",
       "</style>\n",
       "<table border=\"1\" class=\"dataframe\">\n",
       "  <thead>\n",
       "    <tr style=\"text-align: right;\">\n",
       "      <th></th>\n",
       "      <th>volume</th>\n",
       "      <th>energy</th>\n",
       "      <th>error</th>\n",
       "      <th>id</th>\n",
       "      <th>equilibrium_b_prime</th>\n",
       "      <th>equilibrium_bulk_modulus</th>\n",
       "      <th>equilibrium_energy</th>\n",
       "      <th>equilibrium_volume</th>\n",
       "    </tr>\n",
       "  </thead>\n",
       "  <tbody>\n",
       "    <tr>\n",
       "      <th>0</th>\n",
       "      <td>19.757031</td>\n",
       "      <td>-16.527632</td>\n",
       "      <td>0.0</td>\n",
       "      <td>51</td>\n",
       "      <td>4.704621</td>\n",
       "      <td>280.897787</td>\n",
       "      <td>-16.623369</td>\n",
       "      <td>21.189923</td>\n",
       "    </tr>\n",
       "    <tr>\n",
       "      <th>1</th>\n",
       "      <td>20.103646</td>\n",
       "      <td>-16.569446</td>\n",
       "      <td>0.0</td>\n",
       "      <td>52</td>\n",
       "      <td>4.704621</td>\n",
       "      <td>280.897787</td>\n",
       "      <td>-16.623369</td>\n",
       "      <td>21.189923</td>\n",
       "    </tr>\n",
       "    <tr>\n",
       "      <th>2</th>\n",
       "      <td>20.450260</td>\n",
       "      <td>-16.599599</td>\n",
       "      <td>0.0</td>\n",
       "      <td>53</td>\n",
       "      <td>4.704621</td>\n",
       "      <td>280.897787</td>\n",
       "      <td>-16.623369</td>\n",
       "      <td>21.189923</td>\n",
       "    </tr>\n",
       "    <tr>\n",
       "      <th>3</th>\n",
       "      <td>20.796875</td>\n",
       "      <td>-16.616336</td>\n",
       "      <td>0.0</td>\n",
       "      <td>54</td>\n",
       "      <td>4.704621</td>\n",
       "      <td>280.897787</td>\n",
       "      <td>-16.623369</td>\n",
       "      <td>21.189923</td>\n",
       "    </tr>\n",
       "    <tr>\n",
       "      <th>4</th>\n",
       "      <td>21.143490</td>\n",
       "      <td>-16.623997</td>\n",
       "      <td>0.0</td>\n",
       "      <td>55</td>\n",
       "      <td>4.704621</td>\n",
       "      <td>280.897787</td>\n",
       "      <td>-16.623369</td>\n",
       "      <td>21.189923</td>\n",
       "    </tr>\n",
       "    <tr>\n",
       "      <th>5</th>\n",
       "      <td>21.490104</td>\n",
       "      <td>-16.619111</td>\n",
       "      <td>0.0</td>\n",
       "      <td>56</td>\n",
       "      <td>4.704621</td>\n",
       "      <td>280.897787</td>\n",
       "      <td>-16.623369</td>\n",
       "      <td>21.189923</td>\n",
       "    </tr>\n",
       "    <tr>\n",
       "      <th>6</th>\n",
       "      <td>21.836719</td>\n",
       "      <td>-16.607260</td>\n",
       "      <td>0.0</td>\n",
       "      <td>57</td>\n",
       "      <td>4.704621</td>\n",
       "      <td>280.897787</td>\n",
       "      <td>-16.623369</td>\n",
       "      <td>21.189923</td>\n",
       "    </tr>\n",
       "  </tbody>\n",
       "</table>\n",
       "</div>"
      ],
      "text/plain": [
       "      volume     energy  error  id  equilibrium_b_prime  \\\n",
       "0  19.757031 -16.527632    0.0  51             4.704621   \n",
       "1  20.103646 -16.569446    0.0  52             4.704621   \n",
       "2  20.450260 -16.599599    0.0  53             4.704621   \n",
       "3  20.796875 -16.616336    0.0  54             4.704621   \n",
       "4  21.143490 -16.623997    0.0  55             4.704621   \n",
       "5  21.490104 -16.619111    0.0  56             4.704621   \n",
       "6  21.836719 -16.607260    0.0  57             4.704621   \n",
       "\n",
       "   equilibrium_bulk_modulus  equilibrium_energy  equilibrium_volume  \n",
       "0                280.897787          -16.623369           21.189923  \n",
       "1                280.897787          -16.623369           21.189923  \n",
       "2                280.897787          -16.623369           21.189923  \n",
       "3                280.897787          -16.623369           21.189923  \n",
       "4                280.897787          -16.623369           21.189923  \n",
       "5                280.897787          -16.623369           21.189923  \n",
       "6                280.897787          -16.623369           21.189923  "
      ]
     },
     "execution_count": 22,
     "metadata": {},
     "output_type": "execute_result"
    }
   ],
   "source": [
    "murn.output_to_pandas()"
   ]
  },
  {
   "cell_type": "code",
   "execution_count": 23,
   "metadata": {
    "ExecuteTime": {
     "end_time": "2019-09-04T12:59:39.850020Z",
     "start_time": "2019-09-04T12:59:39.628014Z"
    }
   },
   "outputs": [
    {
     "data": {
      "image/png": "[encoded data removed]",
      "text/plain": [
       "<Figure size 432x288 with 1 Axes>"
      ]
     },
     "metadata": {
      "needs_background": "light"
     },
     "output_type": "display_data"
    }
   ],
   "source": [
    "murn.plot()"
   ]
  },
  {
   "cell_type": "code",
   "execution_count": 24,
   "metadata": {
    "ExecuteTime": {
     "end_time": "2019-09-04T12:59:39.919616Z",
     "start_time": "2019-09-04T12:59:39.851944Z"
    }
   },
   "outputs": [
    {
     "data": {
      "text/plain": [
       "{'fit_type': 'vinet',\n",
       " 'volume_eq': 21.19185363600345,\n",
       " 'energy_eq': -16.623384845899427,\n",
       " 'bulkmodul_eq': 280.93805771100557,\n",
       " 'b_prime_eq': 4.105492272090299,\n",
       " 'least_square_error': array([4.97985872e-04, 1.01905536e+01, 1.63735940e+00, 8.58104678e-03])}"
      ]
     },
     "execution_count": 24,
     "metadata": {},
     "output_type": "execute_result"
    }
   ],
   "source": [
    "murn.fit_vinet()"
   ]
  },
  {
   "cell_type": "markdown",
   "metadata": {},
   "source": [
    "## Common mistakes "
   ]
  },
  {
   "cell_type": "markdown",
   "metadata": {},
   "source": [
    "### Not copying the basis "
   ]
  },
  {
   "cell_type": "markdown",
   "metadata": {},
   "source": [
    "It is important to copy the basis before applying the strain, as the strain has to be applied on the initial structure, not the previous structure:"
   ]
  },
  {
   "cell_type": "code",
   "execution_count": 25,
   "metadata": {
    "ExecuteTime": {
     "end_time": "2019-09-04T12:59:39.960916Z",
     "start_time": "2019-09-04T12:59:39.921187Z"
    }
   },
   "outputs": [],
   "source": [
    "volume_lst_with_copy = []\n",
    "for strain in np.linspace(0.95, 1.05, 7):\n",
    "    basis_copy = basis.copy()\n",
    "    basis_copy.set_cell(cell=basis.cell * strain ** (1/3), scale_atoms=True)\n",
    "    volume_lst_with_copy.append(basis_copy.get_volume())"
   ]
  },
  {
   "cell_type": "code",
   "execution_count": 26,
   "metadata": {
    "ExecuteTime": {
     "end_time": "2019-09-04T12:59:39.972769Z",
     "start_time": "2019-09-04T12:59:39.962410Z"
    }
   },
   "outputs": [],
   "source": [
    "basis_copy = basis.copy()\n",
    "volume_lst_without_copy = []\n",
    "for strain in np.linspace(0.95, 1.05, 7):\n",
    "    basis_copy.set_cell(cell=basis_copy.cell * strain ** (1/3), scale_atoms=True)\n",
    "    volume_lst_without_copy.append(basis_copy.get_volume())"
   ]
  },
  {
   "cell_type": "code",
   "execution_count": 27,
   "metadata": {
    "ExecuteTime": {
     "end_time": "2019-09-04T12:59:39.998610Z",
     "start_time": "2019-09-04T12:59:39.974290Z"
    }
   },
   "outputs": [
    {
     "data": {
      "text/plain": [
       "([19.757031250000004,\n",
       "  20.10364583333333,\n",
       "  20.450260416666666,\n",
       "  20.796874999999996,\n",
       "  21.143489583333338,\n",
       "  21.490104166666654,\n",
       "  21.83671875000001],\n",
       " [19.757031250000004,\n",
       "  19.098463541666664,\n",
       "  18.780155815972222,\n",
       "  18.780155815972222,\n",
       "  19.09315841290509,\n",
       "  19.729597026668593,\n",
       "  20.716076878002024])"
      ]
     },
     "execution_count": 27,
     "metadata": {},
     "output_type": "execute_result"
    }
   ],
   "source": [
    "volume_lst_with_copy, volume_lst_without_copy"
   ]
  },
  {
   "cell_type": "markdown",
   "metadata": {},
   "source": [
    "### Rescaling the cell"
   ]
  },
  {
   "cell_type": "markdown",
   "metadata": {},
   "source": [
    "Another common issue is the rescaling of the supercell, there are multiple options to choose from. We used the option to scale the atoms with the supercell."
   ]
  },
  {
   "cell_type": "code",
   "execution_count": 28,
   "metadata": {
    "ExecuteTime": {
     "end_time": "2019-09-04T12:59:40.083034Z",
     "start_time": "2019-09-04T12:59:40.000103Z"
    }
   },
   "outputs": [
    {
     "data": {
      "application/vnd.jupyter.widget-view+json": {
       "model_id": "b6ed16a7f03a4134ba944169b0266942",
       "version_major": 2,
       "version_minor": 0
      },
      "text/plain": [
       "NGLWidget()"
      ]
     },
     "metadata": {},
     "output_type": "display_data"
    }
   ],
   "source": [
    "basis_copy = basis.copy()\n",
    "strain = 0.5\n",
    "basis_copy.set_cell(cell=basis_copy.cell * strain ** (1/3), scale_atoms=True)\n",
    "basis_copy.plot3d()"
   ]
  },
  {
   "cell_type": "markdown",
   "metadata": {},
   "source": [
    "A nother typical case is rescaling the cell to increase the distance between the atoms or add vacuum. But that is not what we want to fit an energy volume curve."
   ]
  },
  {
   "cell_type": "code",
   "execution_count": 29,
   "metadata": {
    "ExecuteTime": {
     "end_time": "2019-09-04T12:59:40.152204Z",
     "start_time": "2019-09-04T12:59:40.084706Z"
    }
   },
   "outputs": [
    {
     "data": {
      "application/vnd.jupyter.widget-view+json": {
       "model_id": "36e3b7cd9ff84541836325e8c24d6a1d",
       "version_major": 2,
       "version_minor": 0
      },
      "text/plain": [
       "NGLWidget()"
      ]
     },
     "metadata": {},
     "output_type": "display_data"
    }
   ],
   "source": [
    "basis_copy = basis.copy()\n",
    "strain = 0.5\n",
    "basis_copy.set_cell(cell=basis_copy.cell * strain ** (1/3), scale_atoms=False)\n",
    "basis_copy.plot3d()"
   ]
  },
  {
   "cell_type": "markdown",
   "metadata": {
    "ExecuteTime": {
     "end_time": "2018-10-16T19:33:52.089315Z",
     "start_time": "2018-10-16T19:33:52.085882Z"
    }
   },
   "source": [
    "The same can be achieved by setting the basis to relative coordinates."
   ]
  },
  {
   "cell_type": "code",
   "execution_count": 30,
   "metadata": {
    "ExecuteTime": {
     "end_time": "2019-09-04T12:59:40.221411Z",
     "start_time": "2019-09-04T12:59:40.153745Z"
    }
   },
   "outputs": [
    {
     "data": {
      "application/vnd.jupyter.widget-view+json": {
       "model_id": "2b3d11b6788c41bfabb662dbd6573f2e",
       "version_major": 2,
       "version_minor": 0
      },
      "text/plain": [
       "NGLWidget()"
      ]
     },
     "metadata": {},
     "output_type": "display_data"
    }
   ],
   "source": [
    "basis_copy = basis.copy()\n",
    "strain = 0.5\n",
    "basis_copy.set_relative()\n",
    "basis_copy.cell *= strain ** (1/3)\n",
    "basis_copy.plot3d()"
   ]
  },
  {
   "cell_type": "code",
   "execution_count": 31,
   "metadata": {
    "ExecuteTime": {
     "end_time": "2019-09-04T12:59:40.287442Z",
     "start_time": "2019-09-04T12:59:40.222918Z"
    }
   },
   "outputs": [
    {
     "data": {
      "application/vnd.jupyter.widget-view+json": {
       "model_id": "8aaa6bdcf84046f09e9e855fb0c3c173",
       "version_major": 2,
       "version_minor": 0
      },
      "text/plain": [
       "NGLWidget()"
      ]
     },
     "metadata": {},
     "output_type": "display_data"
    }
   ],
   "source": [
    "basis_copy = basis.copy()\n",
    "strain = 0.5\n",
    "basis_copy.cell *= strain ** (1/3)\n",
    "basis_copy.plot3d()"
   ]
  },
  {
   "cell_type": "code",
   "execution_count": null,
   "metadata": {},
   "outputs": [],
   "source": []
  }
 ],
 "metadata": {
  "kernelspec": {
   "display_name": "Python 3",
   "language": "python",
   "name": "python3"
  },
  "language_info": {
   "codemirror_mode": {
    "name": "ipython",
    "version": 3
   },
   "file_extension": ".py",
   "mimetype": "text/x-python",
   "name": "python",
   "nbconvert_exporter": "python",
   "pygments_lexer": "ipython3",
   "version": "3.7.8"
  },
  "toc": {
   "base_numbering": 1,
   "nav_menu": {},
   "number_sections": true,
   "sideBar": true,
   "skip_h1_title": false,
   "title_cell": "Table of Contents",
   "title_sidebar": "Contents",
   "toc_cell": false,
   "toc_position": {},
   "toc_section_display": true,
   "toc_window_display": true
  }
 },
 "nbformat": 4,
 "nbformat_minor": 4
}
