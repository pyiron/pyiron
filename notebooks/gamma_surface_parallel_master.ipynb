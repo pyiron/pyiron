{
 "cells": [
  {
   "cell_type": "markdown",
   "metadata": {},
   "source": [
    "# Implementation of Gamma Surface calculation \n",
    "The Gamma Surface calculation requires multiple calculations, therefore we use the ParallelMaster Class and implement a ParallelMaster for Gamma Surface calculations."
   ]
  },
  {
   "cell_type": "code",
   "execution_count": 1,
   "metadata": {
    "ExecuteTime": {
     "end_time": "2020-08-13T10:44:05.421240Z",
     "start_time": "2020-08-13T10:44:03.899519Z"
    }
   },
   "outputs": [],
   "source": [
    "import numpy as np\n",
    "import matplotlib.pylab as plt"
   ]
  },
  {
   "cell_type": "code",
   "execution_count": 2,
   "metadata": {
    "ExecuteTime": {
     "end_time": "2020-08-13T10:44:09.910523Z",
     "start_time": "2020-08-13T10:44:05.422635Z"
    }
   },
   "outputs": [],
   "source": [
    "from pyiron import Project"
   ]
  },
  {
   "cell_type": "markdown",
   "metadata": {},
   "source": [
    "# Class templates \n",
    "We import two additional classes the AtomisticParallelMaster and the JobGenerator"
   ]
  },
  {
   "cell_type": "code",
   "execution_count": 3,
   "metadata": {
    "ExecuteTime": {
     "end_time": "2020-08-13T10:44:09.914123Z",
     "start_time": "2020-08-13T10:44:09.912113Z"
    }
   },
   "outputs": [],
   "source": [
    "from pyiron.atomistics.master.parallel import AtomisticParallelMaster\n",
    "from pyiron_base.master.parallel import JobGenerator"
   ]
  },
  {
   "cell_type": "markdown",
   "metadata": {},
   "source": [
    "## JobGenerator\n",
    "The JobGenerator has three primary functions:\n",
    "* `parameter_list()` which generates a list of parameters, each parameter can then be executed in parallel. \n",
    "* `job_name()` a function to rename the temlate job using one parameter out of the parameter list. \n",
    "* `modify_job()` the function which modifies the job based on one parameter out of the parameter list. \n",
    "Finally there is one additional function to construct the structures the `get_structure()` function. "
   ]
  },
  {
   "cell_type": "code",
   "execution_count": 4,
   "metadata": {
    "ExecuteTime": {
     "end_time": "2020-08-13T10:44:09.920203Z",
     "start_time": "2020-08-13T10:44:09.915189Z"
    }
   },
   "outputs": [],
   "source": [
    "class GammaJobGenerator(JobGenerator):\n",
    "    @property\n",
    "    def parameter_list(self):\n",
    "        \"\"\"\n",
    "\n",
    "        Returns:\n",
    "            (list)\n",
    "        \"\"\"\n",
    "        parameter_lst = []\n",
    "        structure = self._master.ref_job.structure\n",
    "        x_max = structure.cell[0, 0]\n",
    "        y_max = structure.cell[1, 1]\n",
    "        x_vec = np.linspace(0, x_max, self._master.input[\"n_mesh_x\"])\n",
    "        y_vec = np.linspace(0, y_max, self._master.input[\"n_mesh_y\"])\n",
    "        for x in x_vec:\n",
    "            for y in y_vec:\n",
    "                parameter_lst.append([structure.copy(), x,y])\n",
    "        return parameter_lst\n",
    "\n",
    "    @staticmethod\n",
    "    def job_name(parameter):\n",
    "        return 'x_{:.4}_y_{:.4}'.format(parameter[1], parameter[2]).replace('.', '_')\n",
    "\n",
    "    def modify_job(self, job, parameter):\n",
    "        job.structure = self.get_structure(structure=parameter[0], x=parameter[1], y=parameter[2])\n",
    "        return job\n",
    "    \n",
    "    @staticmethod\n",
    "    def get_structure(structure, x, y):\n",
    "        z = structure.positions[:, 2]\n",
    "        z_0 = np.mean(z)\n",
    "        structure.positions[z < z_0, 0] += x\n",
    "        structure.positions[z < z_0, 1] += y\n",
    "        structure.add_tag(selective_dynamics=[False, False, True])\n",
    "        structure.pbc[2] = True\n",
    "        return structure"
   ]
  },
  {
   "cell_type": "markdown",
   "metadata": {},
   "source": [
    "## ParallelMaster\n",
    "The ParallelMaster includes the JobGenerator as an object and in addition adds auxiliary functions to simplify the interaction of the user with the class. In this case these are the `collect_output()` function which summarizes the results of the individual collection as well as two plot functions the regular `plot()` function and the `plot2d()` function to visualise the results. In general the ParallelMaster primarly implements the functionality to aggregate the data once the calculation is finished. "
   ]
  },
  {
   "cell_type": "code",
   "execution_count": 5,
   "metadata": {
    "ExecuteTime": {
     "end_time": "2020-08-13T10:44:09.929631Z",
     "start_time": "2020-08-13T10:44:09.921173Z"
    }
   },
   "outputs": [],
   "source": [
    "class GammaSurface(AtomisticParallelMaster):\n",
    "    def __init__(self, project, job_name):\n",
    "        super(GammaSurface, self).__init__(project, job_name)\n",
    "        self.__name__ = \"GammaSurface\"\n",
    "        self.__version__ = \"0.0.1\"\n",
    "        self.input[\"n_mesh_x\"] = 10\n",
    "        self.input[\"n_mesh_y\"] = 10\n",
    "        self._job_generator = GammaJobGenerator(self)\n",
    "        self._output = {}\n",
    "    \n",
    "    def collect_output(self):\n",
    "        if self.server.run_mode.interactive:\n",
    "            ham = self.project_hdf5.inspect(self.child_ids[0])\n",
    "            self._job_generator.parameter_list\n",
    "            erg_lst = ham[\"output/generic/energy_tot\"]\n",
    "            _, x_lst, y_lst = zip(*self._job_generator.parameter_list)\n",
    "        else:\n",
    "            erg_lst, x_lst, y_lst = [], [], []\n",
    "            for job_id in self.child_ids:\n",
    "                ham = self.project_hdf5.inspect(job_id)\n",
    "                erg_lst.append(ham[\"output/generic/energy_tot\"][-1])\n",
    "                job_name = ham.job_name\n",
    "                x_lst.append(float(job_name.split(\"_y_\")[0].split(\"x_\")[1].replace('_', '.')))\n",
    "                y_lst.append(float(job_name.split(\"_y_\")[1].replace('_', '.')))\n",
    "        self._output[\"energy\"] = erg_lst\n",
    "        self._output[\"x\"] = x_lst\n",
    "        self._output[\"y\"] = y_lst\n",
    "        with self.project_hdf5.open(\"output\") as hdf5_out:\n",
    "            for key, val in self._output.items():\n",
    "                hdf5_out[key] = val\n",
    "                \n",
    "    def plot(self):\n",
    "        if len(self._output) > 0:\n",
    "            plt.plot(self._output[\"y\"], self._output[\"energy\"], 'x-'); \n",
    "        \n",
    "    def plot2d(self):\n",
    "        plt.imshow(np.reshape(self._output[\"energy\"], (self.input[\"n_mesh\"][0],-1)))"
   ]
  },
  {
   "cell_type": "markdown",
   "metadata": {},
   "source": [
    "# Example Project\n",
    "To demonstrate the useage of the newly implemented class we create a small example project. "
   ]
  },
  {
   "cell_type": "code",
   "execution_count": 6,
   "metadata": {
    "ExecuteTime": {
     "end_time": "2020-08-13T10:44:10.771291Z",
     "start_time": "2020-08-13T10:44:09.930539Z"
    }
   },
   "outputs": [],
   "source": [
    "pr = Project(\"Gamma_parallel\")"
   ]
  },
  {
   "cell_type": "markdown",
   "metadata": {},
   "source": [
    "## Execution \n",
    "We use interactive LAMMPS jobs and calculate the gamma surface for two fcc crystal orientations namely 111 and 100. "
   ]
  },
  {
   "cell_type": "code",
   "execution_count": 8,
   "metadata": {
    "ExecuteTime": {
     "end_time": "2020-08-13T10:46:44.992356Z",
     "start_time": "2020-08-13T10:44:12.574387Z"
    }
   },
   "outputs": [
    {
     "name": "stdout",
     "output_type": "stream",
     "text": [
      "The job gamma_fcc111 was saved and received the ID: 1\n",
      "The job gamma_fcc111_ref_job was saved and received the ID: 2\n",
      "The job gamma_fcc100 was saved and received the ID: 3\n",
      "The job gamma_fcc100_ref_job was saved and received the ID: 4\n"
     ]
    },
    {
     "data": {
      "image/png": "[encoded data removed]",
      "text/plain": [
       "<Figure size 432x288 with 2 Axes>"
      ]
     },
     "metadata": {
      "needs_background": "light"
     },
     "output_type": "display_data"
    }
   ],
   "source": [
    "surface_list = ['fcc111', 'fcc100']\n",
    "fig, ax_list = plt.subplots(ncols=2, nrows=1, sharex=True)\n",
    "\n",
    "potential = '2009--Mendelev-M-I--Al-Mg--LAMMPS--ipr1'\n",
    "for i, surf in enumerate(surface_list):\n",
    "    with pr.open(surf) as pr_test:\n",
    "        ax= ax_list[i]\n",
    "        Al = pr_test.create_surface('Al', surf, (1,2,12), vacuum=10, orthogonal=True)\n",
    "        ref_job = pr_test.create_job(pr_test.job_type.Lammps, 'ref_job')\n",
    "        ref_job.structure = Al\n",
    "        ref_job.potential = potential\n",
    "        ref_job.calc_minimize()\n",
    "        ref_job.interactive_enforce_structure_reset = True\n",
    "        ref_job.server.run_mode.interactive = True\n",
    "        gs = ref_job.create_job(GammaSurface, \"gamma_\" + surf)\n",
    "        gs.input[\"n_mesh_x\"] = 5\n",
    "        gs.input[\"n_mesh_y\"] = 19\n",
    "        gs.run()\n",
    "        ax.contourf(np.reshape(gs._output[\"energy\"], (gs.input[\"n_mesh_x\"],-1)))"
   ]
  },
  {
   "cell_type": "code",
   "execution_count": null,
   "metadata": {},
   "outputs": [],
   "source": []
  }
 ],
 "metadata": {
  "kernelspec": {
   "display_name": "Python 3",
   "language": "python",
   "name": "python3"
  },
  "language_info": {
   "codemirror_mode": {
    "name": "ipython",
    "version": 3
   },
   "file_extension": ".py",
   "mimetype": "text/x-python",
   "name": "python",
   "nbconvert_exporter": "python",
   "pygments_lexer": "ipython3",
   "version": "3.7.8"
  },
  "toc": {
   "base_numbering": 1,
   "nav_menu": {},
   "number_sections": true,
   "sideBar": true,
   "skip_h1_title": false,
   "title_cell": "Table of Contents",
   "title_sidebar": "Contents",
   "toc_cell": false,
   "toc_position": {},
   "toc_section_display": true,
   "toc_window_display": false
  }
 },
 "nbformat": 4,
 "nbformat_minor": 4
}
